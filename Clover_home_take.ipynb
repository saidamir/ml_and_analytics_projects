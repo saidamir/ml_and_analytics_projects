{
  "nbformat": 4,
  "nbformat_minor": 0,
  "metadata": {
    "colab": {
      "provenance": []
    },
    "kernelspec": {
      "name": "python3",
      "display_name": "Python 3"
    },
    "language_info": {
      "name": "python"
    }
  },
  "cells": [
    {
      "cell_type": "markdown",
      "source": [
        "# Asnwers to questions:\n",
        "- **What are the most common medications for each disease in the base file?**\n",
        "See results in the table rendered after medicine_pop() function application. The top 3 medicines for 10 diseases include only 9 medicines where the top medicines are less than 5.7% of all diagnosed users. The same medicine is prescribed on many diseases.  \n",
        "- **What medications are most indicative of each disease?**\n",
        "Please see the table below in one of the paragraphs. For example, 87% of all total Metformin prescriptions and 37% of total Lisinopril prescriptions up to latest date have users with diabetes. In other words some medicinces were prescribed more than 1 time and they were double counted in the below table, i.e. we didn't normalize the table for each medicine to be considered only once.\n",
        "- **Choose ONE of the diseases and build a model to infer whether that disease is present from the medications.**\n",
        "I build two models (logistic regression and catboost) to identify whether diabetes is present from the medicines. \n",
        "- **Demonstrate that the end user should be confident in the result.**\n",
        "The ROC AUC scores of the two models were not high, especially for tests, a bit more than 80%.According to the precision / recall curve for logistic regression, at recall level of 0.8 (i.e. we predict correctly 80% of predictions), we only identify around 50% of all people with diabetes. It means that if we are interested in identifying as many people with diabetes as possible, then we need to create a better model, with more carefully selected features.\n",
        "\n",
        "\n"
      ],
      "metadata": {
        "id": "uilChjLMQmAv"
      }
    },
    {
      "cell_type": "code",
      "execution_count": 2,
      "metadata": {
        "id": "p3PbBULmbulk"
      },
      "outputs": [],
      "source": [
        "import pandas as pd\n",
        "import numpy as np\n",
        "import math\n",
        "import warnings; warnings.simplefilter('ignore')\n",
        "import matplotlib.pyplot as plt\n",
        "import seaborn as sns\n",
        "from sklearn.linear_model import LinearRegression\n",
        "from sklearn.linear_model import LogisticRegression\n",
        "from sklearn.model_selection import train_test_split\n",
        "from sklearn.metrics import r2_score, mean_squared_error, roc_auc_score\n",
        "from sklearn.preprocessing import StandardScaler\n",
        "from sklearn.model_selection import GridSearchCV\n",
        "import plotly.graph_objects as go \n",
        "import scipy.stats as stats\n",
        "from scipy import stats\n",
        "\n",
        "from scipy.stats import mannwhitneyu, norm, t, nct, rankdata, ttest_ind"
      ]
    },
    {
      "cell_type": "code",
      "source": [
        "df_base=pd.read_csv('meps_base_data.csv')\n",
        "print (df_base.head())\n",
        "print (df_base.describe())"
      ],
      "metadata": {
        "colab": {
          "base_uri": "https://localhost:8080/"
        },
        "id": "WhgzmS1ocQBE",
        "outputId": "37a46ca1-804a-4242-a436-29bbb44a9417"
      },
      "execution_count": 3,
      "outputs": [
        {
          "output_type": "stream",
          "name": "stdout",
          "text": [
            "   Unnamed: 0        id  panel  pooledWeight  age     sex      race  \\\n",
            "0           1  10007101     15   3603.881236   28    Male     White   \n",
            "1           2  10007102     15   2544.550424   25  Female     White   \n",
            "2           3  10007103     15   4050.397468    4    Male     White   \n",
            "3           4  10007104     15   3064.059720    3  Female     White   \n",
            "4           5  10008101     15   3635.552466   51    Male  Multiple   \n",
            "\n",
            "                   married highBPDiagnosed diabetesDiagnosed  chdDiagnosed  \\\n",
            "0                  MARRIED             Yes                No            No   \n",
            "1                  MARRIED              No                No            No   \n",
            "2  UNDER 16 - INAPPLICABLE    Inapplicable      Inapplicable  Inapplicable   \n",
            "3  UNDER 16 - INAPPLICABLE    Inapplicable      Inapplicable  Inapplicable   \n",
            "4                  MARRIED              No                No            No   \n",
            "\n",
            "    miDiagnosed anginaDiagnosed strokeDiagnosed emphysemaDiagnosed  \\\n",
            "0            No              No              No                 No   \n",
            "1            No              No              No                 No   \n",
            "2  Inapplicable    Inapplicable    Inapplicable       Inapplicable   \n",
            "3  Inapplicable    Inapplicable    Inapplicable       Inapplicable   \n",
            "4            No              No              No                 No   \n",
            "\n",
            "  asthmaDiagnosed otherHDDiagnosed heartFailureDiagnosed  \n",
            "0              No               No                    No  \n",
            "1             Yes               No                    No  \n",
            "2              No     Inapplicable                    No  \n",
            "3              No     Inapplicable                    No  \n",
            "4              No               No                    No  \n",
            "         Unnamed: 0            id         panel  pooledWeight           age\n",
            "count  61489.000000  6.148900e+04  61489.000000  61489.000000  61489.000000\n",
            "mean   30745.000000  5.534638e+07     13.534453   5063.701982     33.578396\n",
            "std    17750.489688  2.759592e+07      1.061329   3815.885387     22.887576\n",
            "min        1.000000  1.000710e+07     12.000000    127.710358     -1.000000\n",
            "25%    15373.000000  4.045510e+07     13.000000   2217.419038     14.000000\n",
            "50%    30745.000000  4.965010e+07     14.000000   3989.180418     32.000000\n",
            "75%    46117.000000  8.161711e+07     14.000000   6905.677619     51.000000\n",
            "max    61489.000000  8.968810e+07     15.000000  38828.153560     85.000000\n"
          ]
        }
      ]
    },
    {
      "cell_type": "code",
      "source": [
        "#lets check if we have repeating id\n",
        "df_base.groupby('id').count()['panel'].sort_values(ascending=False)"
      ],
      "metadata": {
        "colab": {
          "base_uri": "https://localhost:8080/"
        },
        "id": "wp6AOZzWkhd9",
        "outputId": "e715b978-35f4-4c88-a7a2-8fca2ea63ea2"
      },
      "execution_count": 4,
      "outputs": [
        {
          "output_type": "execute_result",
          "data": {
            "text/plain": [
              "id\n",
              "10007101    1\n",
              "76147103    1\n",
              "75975103    1\n",
              "75976101    1\n",
              "75978101    1\n",
              "           ..\n",
              "43431101    1\n",
              "43431102    1\n",
              "43431103    1\n",
              "43431104    1\n",
              "89688102    1\n",
              "Name: panel, Length: 61489, dtype: int64"
            ]
          },
          "metadata": {},
          "execution_count": 4
        }
      ]
    },
    {
      "cell_type": "code",
      "source": [
        "#lets check the null data\n",
        "df_base.isnull().mean()"
      ],
      "metadata": {
        "colab": {
          "base_uri": "https://localhost:8080/"
        },
        "id": "VbtsLfOgk-tJ",
        "outputId": "62ba4fb6-c9d9-4390-d5ae-51e3e7e42bdc"
      },
      "execution_count": 5,
      "outputs": [
        {
          "output_type": "execute_result",
          "data": {
            "text/plain": [
              "Unnamed: 0               0.0\n",
              "id                       0.0\n",
              "panel                    0.0\n",
              "pooledWeight             0.0\n",
              "age                      0.0\n",
              "sex                      0.0\n",
              "race                     0.0\n",
              "married                  0.0\n",
              "highBPDiagnosed          0.0\n",
              "diabetesDiagnosed        0.0\n",
              "chdDiagnosed             0.0\n",
              "miDiagnosed              0.0\n",
              "anginaDiagnosed          0.0\n",
              "strokeDiagnosed          0.0\n",
              "emphysemaDiagnosed       0.0\n",
              "asthmaDiagnosed          0.0\n",
              "otherHDDiagnosed         0.0\n",
              "heartFailureDiagnosed    0.0\n",
              "dtype: float64"
            ]
          },
          "metadata": {},
          "execution_count": 5
        }
      ]
    },
    {
      "cell_type": "code",
      "source": [
        "#Lets check the prevalence of negative age data\n",
        "sns.set(rc={'figure.figsize':(25.7,8.27)})\n",
        "sns.countplot(df_base['age'])\n"
      ],
      "metadata": {
        "colab": {
          "base_uri": "https://localhost:8080/",
          "height": 474
        },
        "id": "p7j2FbbSdTP8",
        "outputId": "82c466eb-f2fe-4208-9695-0a96f56f8c4b"
      },
      "execution_count": 6,
      "outputs": [
        {
          "output_type": "execute_result",
          "data": {
            "text/plain": [
              "<matplotlib.axes._subplots.AxesSubplot at 0x7fcaa7fd4910>"
            ]
          },
          "metadata": {},
          "execution_count": 6
        },
        {
          "output_type": "display_data",
          "data": {
            "text/plain": [
              "<Figure size 1850.4x595.44 with 1 Axes>"
            ],
            "image/png": "[encoded data removed]"
          },
          "metadata": {}
        }
      ]
    },
    {
      "cell_type": "code",
      "source": [
        "#lets glance at negative age patients\n",
        "df_base[df_base['age']==-1].head(20)"
      ],
      "metadata": {
        "colab": {
          "base_uri": "https://localhost:8080/",
          "height": 758
        },
        "id": "DiKg86-tdriX",
        "outputId": "3cdb349f-08ad-4b05-8754-1c185c9fc56e"
      },
      "execution_count": 7,
      "outputs": [
        {
          "output_type": "execute_result",
          "data": {
            "text/plain": [
              "     Unnamed: 0        id  panel  pooledWeight  age     sex      race  \\\n",
              "18           19  10016106     15   3350.219230   -1    Male  Multiple   \n",
              "104         105  10073104     15   2324.790489   -1  Female     Black   \n",
              "105         106  10073105     15   1837.365888   -1  Female     Black   \n",
              "179         180  10120114     15   2889.047827   -1    Male     White   \n",
              "236         237  10140201     15   2764.797184   -1    Male     White   \n",
              "270         271  10157103     15   5749.295298   -1  Female     White   \n",
              "286         287  10171104     15   1943.141533   -1    Male     White   \n",
              "302         303  10184104     15   1928.625577   -1    Male     White   \n",
              "367         368  10206105     15   4961.044625   -1  Female     Asian   \n",
              "516         517  10305104     15   2433.804144   -1  Female     Black   \n",
              "535         536  10319107     15   4205.081058   -1    Male     White   \n",
              "554         555  10330104     15   5186.619813   -1    Male     White   \n",
              "555         556  10330105     15   5649.985843   -1    Male     White   \n",
              "573         574  10343104     15   1124.163908   -1  Female     Black   \n",
              "643         644  10385201     15   6025.971048   -1    Male     White   \n",
              "644         645  10385202     15   6025.971048   -1    Male     White   \n",
              "722         723  10427105     15   2882.268916   -1  Female     Asian   \n",
              "804         805  10477202     15   4379.165227   -1  Female     White   \n",
              "823         824  10486103     15   2290.417033   -1    Male     Black   \n",
              "858         859  10506103     15  12245.166940   -1  Female     White   \n",
              "\n",
              "          married highBPDiagnosed diabetesDiagnosed  chdDiagnosed  \\\n",
              "18   INAPPLICABLE    Inapplicable      Inapplicable  Inapplicable   \n",
              "104  INAPPLICABLE    Inapplicable      Inapplicable  Inapplicable   \n",
              "105  INAPPLICABLE    Inapplicable      Inapplicable  Inapplicable   \n",
              "179  INAPPLICABLE    Inapplicable      Inapplicable  Inapplicable   \n",
              "236  INAPPLICABLE    Inapplicable      Inapplicable  Inapplicable   \n",
              "270  INAPPLICABLE    Inapplicable      Inapplicable  Inapplicable   \n",
              "286  INAPPLICABLE    Inapplicable      Inapplicable  Inapplicable   \n",
              "302  INAPPLICABLE    Inapplicable      Inapplicable  Inapplicable   \n",
              "367  INAPPLICABLE    Inapplicable      Inapplicable  Inapplicable   \n",
              "516  INAPPLICABLE    Inapplicable      Inapplicable  Inapplicable   \n",
              "535  INAPPLICABLE    Inapplicable      Inapplicable  Inapplicable   \n",
              "554  INAPPLICABLE    Inapplicable      Inapplicable  Inapplicable   \n",
              "555  INAPPLICABLE    Inapplicable      Inapplicable  Inapplicable   \n",
              "573  INAPPLICABLE    Inapplicable      Inapplicable  Inapplicable   \n",
              "643  INAPPLICABLE    Inapplicable      Inapplicable  Inapplicable   \n",
              "644  INAPPLICABLE    Inapplicable      Inapplicable  Inapplicable   \n",
              "722  INAPPLICABLE    Inapplicable      Inapplicable  Inapplicable   \n",
              "804  INAPPLICABLE    Inapplicable      Inapplicable  Inapplicable   \n",
              "823  INAPPLICABLE    Inapplicable      Inapplicable  Inapplicable   \n",
              "858  INAPPLICABLE    Inapplicable      Inapplicable  Inapplicable   \n",
              "\n",
              "      miDiagnosed anginaDiagnosed strokeDiagnosed emphysemaDiagnosed  \\\n",
              "18   Inapplicable    Inapplicable    Inapplicable       Inapplicable   \n",
              "104  Inapplicable    Inapplicable    Inapplicable       Inapplicable   \n",
              "105  Inapplicable    Inapplicable    Inapplicable       Inapplicable   \n",
              "179  Inapplicable    Inapplicable    Inapplicable       Inapplicable   \n",
              "236  Inapplicable    Inapplicable    Inapplicable       Inapplicable   \n",
              "270  Inapplicable    Inapplicable    Inapplicable       Inapplicable   \n",
              "286  Inapplicable    Inapplicable    Inapplicable       Inapplicable   \n",
              "302  Inapplicable    Inapplicable    Inapplicable       Inapplicable   \n",
              "367  Inapplicable    Inapplicable    Inapplicable       Inapplicable   \n",
              "516  Inapplicable    Inapplicable    Inapplicable       Inapplicable   \n",
              "535  Inapplicable    Inapplicable    Inapplicable       Inapplicable   \n",
              "554  Inapplicable    Inapplicable    Inapplicable       Inapplicable   \n",
              "555  Inapplicable    Inapplicable    Inapplicable       Inapplicable   \n",
              "573  Inapplicable    Inapplicable    Inapplicable       Inapplicable   \n",
              "643  Inapplicable    Inapplicable    Inapplicable       Inapplicable   \n",
              "644  Inapplicable    Inapplicable    Inapplicable       Inapplicable   \n",
              "722  Inapplicable    Inapplicable    Inapplicable       Inapplicable   \n",
              "804  Inapplicable    Inapplicable    Inapplicable       Inapplicable   \n",
              "823  Inapplicable    Inapplicable    Inapplicable       Inapplicable   \n",
              "858  Inapplicable    Inapplicable    Inapplicable       Inapplicable   \n",
              "\n",
              "    asthmaDiagnosed otherHDDiagnosed heartFailureDiagnosed  \n",
              "18               No     Inapplicable                    No  \n",
              "104              No     Inapplicable                    No  \n",
              "105    Inapplicable     Inapplicable                    No  \n",
              "179    Inapplicable     Inapplicable                    No  \n",
              "236    Inapplicable     Inapplicable                    No  \n",
              "270              No     Inapplicable                    No  \n",
              "286              No     Inapplicable                    No  \n",
              "302    Inapplicable     Inapplicable                    No  \n",
              "367    Inapplicable     Inapplicable                    No  \n",
              "516    Inapplicable     Inapplicable                    No  \n",
              "535    Inapplicable     Inapplicable                    No  \n",
              "554              No     Inapplicable                    No  \n",
              "555    Inapplicable     Inapplicable                    No  \n",
              "573              No     Inapplicable                    No  \n",
              "643    Inapplicable     Inapplicable                    No  \n",
              "644    Inapplicable     Inapplicable                    No  \n",
              "722    Inapplicable     Inapplicable                    No  \n",
              "804    Inapplicable     Inapplicable                    No  \n",
              "823              No     Inapplicable                    No  \n",
              "858              No     Inapplicable                    No  "
            ],
            "text/html": [
              "\n",
              "  <div id=\"df-69d1d294-0baa-4982-90af-3c12c3f8c76f\">\n",
              "    <div class=\"colab-df-container\">\n",
              "      <div>\n",
              "<style scoped>\n",
              "    .dataframe tbody tr th:only-of-type {\n",
              "        vertical-align: middle;\n",
              "    }\n",
              "\n",
              "    .dataframe tbody tr th {\n",
              "        vertical-align: top;\n",
              "    }\n",
              "\n",
              "    .dataframe thead th {\n",
              "        text-align: right;\n",
              "    }\n",
              "</style>\n",
              "<table border=\"1\" class=\"dataframe\">\n",
              "  <thead>\n",
              "    <tr style=\"text-align: right;\">\n",
              "      <th></th>\n",
              "      <th>Unnamed: 0</th>\n",
              "      <th>id</th>\n",
              "      <th>panel</th>\n",
              "      <th>pooledWeight</th>\n",
              "      <th>age</th>\n",
              "      <th>sex</th>\n",
              "      <th>race</th>\n",
              "      <th>married</th>\n",
              "      <th>highBPDiagnosed</th>\n",
              "      <th>diabetesDiagnosed</th>\n",
              "      <th>chdDiagnosed</th>\n",
              "      <th>miDiagnosed</th>\n",
              "      <th>anginaDiagnosed</th>\n",
              "      <th>strokeDiagnosed</th>\n",
              "      <th>emphysemaDiagnosed</th>\n",
              "      <th>asthmaDiagnosed</th>\n",
              "      <th>otherHDDiagnosed</th>\n",
              "      <th>heartFailureDiagnosed</th>\n",
              "    </tr>\n",
              "  </thead>\n",
              "  <tbody>\n",
              "    <tr>\n",
              "      <th>18</th>\n",
              "      <td>19</td>\n",
              "      <td>10016106</td>\n",
              "      <td>15</td>\n",
              "      <td>3350.219230</td>\n",
              "      <td>-1</td>\n",
              "      <td>Male</td>\n",
              "      <td>Multiple</td>\n",
              "      <td>INAPPLICABLE</td>\n",
              "      <td>Inapplicable</td>\n",
              "      <td>Inapplicable</td>\n",
              "      <td>Inapplicable</td>\n",
              "      <td>Inapplicable</td>\n",
              "      <td>Inapplicable</td>\n",
              "      <td>Inapplicable</td>\n",
              "      <td>Inapplicable</td>\n",
              "      <td>No</td>\n",
              "      <td>Inapplicable</td>\n",
              "      <td>No</td>\n",
              "    </tr>\n",
              "    <tr>\n",
              "      <th>104</th>\n",
              "      <td>105</td>\n",
              "      <td>10073104</td>\n",
              "      <td>15</td>\n",
              "      <td>2324.790489</td>\n",
              "      <td>-1</td>\n",
              "      <td>Female</td>\n",
              "      <td>Black</td>\n",
              "      <td>INAPPLICABLE</td>\n",
              "      <td>Inapplicable</td>\n",
              "      <td>Inapplicable</td>\n",
              "      <td>Inapplicable</td>\n",
              "      <td>Inapplicable</td>\n",
              "      <td>Inapplicable</td>\n",
              "      <td>Inapplicable</td>\n",
              "      <td>Inapplicable</td>\n",
              "      <td>No</td>\n",
              "      <td>Inapplicable</td>\n",
              "      <td>No</td>\n",
              "    </tr>\n",
              "    <tr>\n",
              "      <th>105</th>\n",
              "      <td>106</td>\n",
              "      <td>10073105</td>\n",
              "      <td>15</td>\n",
              "      <td>1837.365888</td>\n",
              "      <td>-1</td>\n",
              "      <td>Female</td>\n",
              "      <td>Black</td>\n",
              "      <td>INAPPLICABLE</td>\n",
              "      <td>Inapplicable</td>\n",
              "      <td>Inapplicable</td>\n",
              "      <td>Inapplicable</td>\n",
              "      <td>Inapplicable</td>\n",
              "      <td>Inapplicable</td>\n",
              "      <td>Inapplicable</td>\n",
              "      <td>Inapplicable</td>\n",
              "      <td>Inapplicable</td>\n",
              "      <td>Inapplicable</td>\n",
              "      <td>No</td>\n",
              "    </tr>\n",
              "    <tr>\n",
              "      <th>179</th>\n",
              "      <td>180</td>\n",
              "      <td>10120114</td>\n",
              "      <td>15</td>\n",
              "      <td>2889.047827</td>\n",
              "      <td>-1</td>\n",
              "      <td>Male</td>\n",
              "      <td>White</td>\n",
              "      <td>INAPPLICABLE</td>\n",
              "      <td>Inapplicable</td>\n",
              "      <td>Inapplicable</td>\n",
              "      <td>Inapplicable</td>\n",
              "      <td>Inapplicable</td>\n",
              "      <td>Inapplicable</td>\n",
              "      <td>Inapplicable</td>\n",
              "      <td>Inapplicable</td>\n",
              "      <td>Inapplicable</td>\n",
              "      <td>Inapplicable</td>\n",
              "      <td>No</td>\n",
              "    </tr>\n",
              "    <tr>\n",
              "      <th>236</th>\n",
              "      <td>237</td>\n",
              "      <td>10140201</td>\n",
              "      <td>15</td>\n",
              "      <td>2764.797184</td>\n",
              "      <td>-1</td>\n",
              "      <td>Male</td>\n",
              "      <td>White</td>\n",
              "      <td>INAPPLICABLE</td>\n",
              "      <td>Inapplicable</td>\n",
              "      <td>Inapplicable</td>\n",
              "      <td>Inapplicable</td>\n",
              "      <td>Inapplicable</td>\n",
              "      <td>Inapplicable</td>\n",
              "      <td>Inapplicable</td>\n",
              "      <td>Inapplicable</td>\n",
              "      <td>Inapplicable</td>\n",
              "      <td>Inapplicable</td>\n",
              "      <td>No</td>\n",
              "    </tr>\n",
              "    <tr>\n",
              "      <th>270</th>\n",
              "      <td>271</td>\n",
              "      <td>10157103</td>\n",
              "      <td>15</td>\n",
              "      <td>5749.295298</td>\n",
              "      <td>-1</td>\n",
              "      <td>Female</td>\n",
              "      <td>White</td>\n",
              "      <td>INAPPLICABLE</td>\n",
              "      <td>Inapplicable</td>\n",
              "      <td>Inapplicable</td>\n",
              "      <td>Inapplicable</td>\n",
              "      <td>Inapplicable</td>\n",
              "      <td>Inapplicable</td>\n",
              "      <td>Inapplicable</td>\n",
              "      <td>Inapplicable</td>\n",
              "      <td>No</td>\n",
              "      <td>Inapplicable</td>\n",
              "      <td>No</td>\n",
              "    </tr>\n",
              "    <tr>\n",
              "      <th>286</th>\n",
              "      <td>287</td>\n",
              "      <td>10171104</td>\n",
              "      <td>15</td>\n",
              "      <td>1943.141533</td>\n",
              "      <td>-1</td>\n",
              "      <td>Male</td>\n",
              "      <td>White</td>\n",
              "      <td>INAPPLICABLE</td>\n",
              "      <td>Inapplicable</td>\n",
              "      <td>Inapplicable</td>\n",
              "      <td>Inapplicable</td>\n",
              "      <td>Inapplicable</td>\n",
              "      <td>Inapplicable</td>\n",
              "      <td>Inapplicable</td>\n",
              "      <td>Inapplicable</td>\n",
              "      <td>No</td>\n",
              "      <td>Inapplicable</td>\n",
              "      <td>No</td>\n",
              "    </tr>\n",
              "    <tr>\n",
              "      <th>302</th>\n",
              "      <td>303</td>\n",
              "      <td>10184104</td>\n",
              "      <td>15</td>\n",
              "      <td>1928.625577</td>\n",
              "      <td>-1</td>\n",
              "      <td>Male</td>\n",
              "      <td>White</td>\n",
              "      <td>INAPPLICABLE</td>\n",
              "      <td>Inapplicable</td>\n",
              "      <td>Inapplicable</td>\n",
              "      <td>Inapplicable</td>\n",
              "      <td>Inapplicable</td>\n",
              "      <td>Inapplicable</td>\n",
              "      <td>Inapplicable</td>\n",
              "      <td>Inapplicable</td>\n",
              "      <td>Inapplicable</td>\n",
              "      <td>Inapplicable</td>\n",
              "      <td>No</td>\n",
              "    </tr>\n",
              "    <tr>\n",
              "      <th>367</th>\n",
              "      <td>368</td>\n",
              "      <td>10206105</td>\n",
              "      <td>15</td>\n",
              "      <td>4961.044625</td>\n",
              "      <td>-1</td>\n",
              "      <td>Female</td>\n",
              "      <td>Asian</td>\n",
              "      <td>INAPPLICABLE</td>\n",
              "      <td>Inapplicable</td>\n",
              "      <td>Inapplicable</td>\n",
              "      <td>Inapplicable</td>\n",
              "      <td>Inapplicable</td>\n",
              "      <td>Inapplicable</td>\n",
              "      <td>Inapplicable</td>\n",
              "      <td>Inapplicable</td>\n",
              "      <td>Inapplicable</td>\n",
              "      <td>Inapplicable</td>\n",
              "      <td>No</td>\n",
              "    </tr>\n",
              "    <tr>\n",
              "      <th>516</th>\n",
              "      <td>517</td>\n",
              "      <td>10305104</td>\n",
              "      <td>15</td>\n",
              "      <td>2433.804144</td>\n",
              "      <td>-1</td>\n",
              "      <td>Female</td>\n",
              "      <td>Black</td>\n",
              "      <td>INAPPLICABLE</td>\n",
              "      <td>Inapplicable</td>\n",
              "      <td>Inapplicable</td>\n",
              "      <td>Inapplicable</td>\n",
              "      <td>Inapplicable</td>\n",
              "      <td>Inapplicable</td>\n",
              "      <td>Inapplicable</td>\n",
              "      <td>Inapplicable</td>\n",
              "      <td>Inapplicable</td>\n",
              "      <td>Inapplicable</td>\n",
              "      <td>No</td>\n",
              "    </tr>\n",
              "    <tr>\n",
              "      <th>535</th>\n",
              "      <td>536</td>\n",
              "      <td>10319107</td>\n",
              "      <td>15</td>\n",
              "      <td>4205.081058</td>\n",
              "      <td>-1</td>\n",
              "      <td>Male</td>\n",
              "      <td>White</td>\n",
              "      <td>INAPPLICABLE</td>\n",
              "      <td>Inapplicable</td>\n",
              "      <td>Inapplicable</td>\n",
              "      <td>Inapplicable</td>\n",
              "      <td>Inapplicable</td>\n",
              "      <td>Inapplicable</td>\n",
              "      <td>Inapplicable</td>\n",
              "      <td>Inapplicable</td>\n",
              "      <td>Inapplicable</td>\n",
              "      <td>Inapplicable</td>\n",
              "      <td>No</td>\n",
              "    </tr>\n",
              "    <tr>\n",
              "      <th>554</th>\n",
              "      <td>555</td>\n",
              "      <td>10330104</td>\n",
              "      <td>15</td>\n",
              "      <td>5186.619813</td>\n",
              "      <td>-1</td>\n",
              "      <td>Male</td>\n",
              "      <td>White</td>\n",
              "      <td>INAPPLICABLE</td>\n",
              "      <td>Inapplicable</td>\n",
              "      <td>Inapplicable</td>\n",
              "      <td>Inapplicable</td>\n",
              "      <td>Inapplicable</td>\n",
              "      <td>Inapplicable</td>\n",
              "      <td>Inapplicable</td>\n",
              "      <td>Inapplicable</td>\n",
              "      <td>No</td>\n",
              "      <td>Inapplicable</td>\n",
              "      <td>No</td>\n",
              "    </tr>\n",
              "    <tr>\n",
              "      <th>555</th>\n",
              "      <td>556</td>\n",
              "      <td>10330105</td>\n",
              "      <td>15</td>\n",
              "      <td>5649.985843</td>\n",
              "      <td>-1</td>\n",
              "      <td>Male</td>\n",
              "      <td>White</td>\n",
              "      <td>INAPPLICABLE</td>\n",
              "      <td>Inapplicable</td>\n",
              "      <td>Inapplicable</td>\n",
              "      <td>Inapplicable</td>\n",
              "      <td>Inapplicable</td>\n",
              "      <td>Inapplicable</td>\n",
              "      <td>Inapplicable</td>\n",
              "      <td>Inapplicable</td>\n",
              "      <td>Inapplicable</td>\n",
              "      <td>Inapplicable</td>\n",
              "      <td>No</td>\n",
              "    </tr>\n",
              "    <tr>\n",
              "      <th>573</th>\n",
              "      <td>574</td>\n",
              "      <td>10343104</td>\n",
              "      <td>15</td>\n",
              "      <td>1124.163908</td>\n",
              "      <td>-1</td>\n",
              "      <td>Female</td>\n",
              "      <td>Black</td>\n",
              "      <td>INAPPLICABLE</td>\n",
              "      <td>Inapplicable</td>\n",
              "      <td>Inapplicable</td>\n",
              "      <td>Inapplicable</td>\n",
              "      <td>Inapplicable</td>\n",
              "      <td>Inapplicable</td>\n",
              "      <td>Inapplicable</td>\n",
              "      <td>Inapplicable</td>\n",
              "      <td>No</td>\n",
              "      <td>Inapplicable</td>\n",
              "      <td>No</td>\n",
              "    </tr>\n",
              "    <tr>\n",
              "      <th>643</th>\n",
              "      <td>644</td>\n",
              "      <td>10385201</td>\n",
              "      <td>15</td>\n",
              "      <td>6025.971048</td>\n",
              "      <td>-1</td>\n",
              "      <td>Male</td>\n",
              "      <td>White</td>\n",
              "      <td>INAPPLICABLE</td>\n",
              "      <td>Inapplicable</td>\n",
              "      <td>Inapplicable</td>\n",
              "      <td>Inapplicable</td>\n",
              "      <td>Inapplicable</td>\n",
              "      <td>Inapplicable</td>\n",
              "      <td>Inapplicable</td>\n",
              "      <td>Inapplicable</td>\n",
              "      <td>Inapplicable</td>\n",
              "      <td>Inapplicable</td>\n",
              "      <td>No</td>\n",
              "    </tr>\n",
              "    <tr>\n",
              "      <th>644</th>\n",
              "      <td>645</td>\n",
              "      <td>10385202</td>\n",
              "      <td>15</td>\n",
              "      <td>6025.971048</td>\n",
              "      <td>-1</td>\n",
              "      <td>Male</td>\n",
              "      <td>White</td>\n",
              "      <td>INAPPLICABLE</td>\n",
              "      <td>Inapplicable</td>\n",
              "      <td>Inapplicable</td>\n",
              "      <td>Inapplicable</td>\n",
              "      <td>Inapplicable</td>\n",
              "      <td>Inapplicable</td>\n",
              "      <td>Inapplicable</td>\n",
              "      <td>Inapplicable</td>\n",
              "      <td>Inapplicable</td>\n",
              "      <td>Inapplicable</td>\n",
              "      <td>No</td>\n",
              "    </tr>\n",
              "    <tr>\n",
              "      <th>722</th>\n",
              "      <td>723</td>\n",
              "      <td>10427105</td>\n",
              "      <td>15</td>\n",
              "      <td>2882.268916</td>\n",
              "      <td>-1</td>\n",
              "      <td>Female</td>\n",
              "      <td>Asian</td>\n",
              "      <td>INAPPLICABLE</td>\n",
              "      <td>Inapplicable</td>\n",
              "      <td>Inapplicable</td>\n",
              "      <td>Inapplicable</td>\n",
              "      <td>Inapplicable</td>\n",
              "      <td>Inapplicable</td>\n",
              "      <td>Inapplicable</td>\n",
              "      <td>Inapplicable</td>\n",
              "      <td>Inapplicable</td>\n",
              "      <td>Inapplicable</td>\n",
              "      <td>No</td>\n",
              "    </tr>\n",
              "    <tr>\n",
              "      <th>804</th>\n",
              "      <td>805</td>\n",
              "      <td>10477202</td>\n",
              "      <td>15</td>\n",
              "      <td>4379.165227</td>\n",
              "      <td>-1</td>\n",
              "      <td>Female</td>\n",
              "      <td>White</td>\n",
              "      <td>INAPPLICABLE</td>\n",
              "      <td>Inapplicable</td>\n",
              "      <td>Inapplicable</td>\n",
              "      <td>Inapplicable</td>\n",
              "      <td>Inapplicable</td>\n",
              "      <td>Inapplicable</td>\n",
              "      <td>Inapplicable</td>\n",
              "      <td>Inapplicable</td>\n",
              "      <td>Inapplicable</td>\n",
              "      <td>Inapplicable</td>\n",
              "      <td>No</td>\n",
              "    </tr>\n",
              "    <tr>\n",
              "      <th>823</th>\n",
              "      <td>824</td>\n",
              "      <td>10486103</td>\n",
              "      <td>15</td>\n",
              "      <td>2290.417033</td>\n",
              "      <td>-1</td>\n",
              "      <td>Male</td>\n",
              "      <td>Black</td>\n",
              "      <td>INAPPLICABLE</td>\n",
              "      <td>Inapplicable</td>\n",
              "      <td>Inapplicable</td>\n",
              "      <td>Inapplicable</td>\n",
              "      <td>Inapplicable</td>\n",
              "      <td>Inapplicable</td>\n",
              "      <td>Inapplicable</td>\n",
              "      <td>Inapplicable</td>\n",
              "      <td>No</td>\n",
              "      <td>Inapplicable</td>\n",
              "      <td>No</td>\n",
              "    </tr>\n",
              "    <tr>\n",
              "      <th>858</th>\n",
              "      <td>859</td>\n",
              "      <td>10506103</td>\n",
              "      <td>15</td>\n",
              "      <td>12245.166940</td>\n",
              "      <td>-1</td>\n",
              "      <td>Female</td>\n",
              "      <td>White</td>\n",
              "      <td>INAPPLICABLE</td>\n",
              "      <td>Inapplicable</td>\n",
              "      <td>Inapplicable</td>\n",
              "      <td>Inapplicable</td>\n",
              "      <td>Inapplicable</td>\n",
              "      <td>Inapplicable</td>\n",
              "      <td>Inapplicable</td>\n",
              "      <td>Inapplicable</td>\n",
              "      <td>No</td>\n",
              "      <td>Inapplicable</td>\n",
              "      <td>No</td>\n",
              "    </tr>\n",
              "  </tbody>\n",
              "</table>\n",
              "</div>\n",
              "      <button class=\"colab-df-convert\" onclick=\"convertToInteractive('df-69d1d294-0baa-4982-90af-3c12c3f8c76f')\"\n",
              "              title=\"Convert this dataframe to an interactive table.\"\n",
              "              style=\"display:none;\">\n",
              "        \n",
              "  <svg xmlns=\"http://www.w3.org/2000/svg\" height=\"24px\"viewBox=\"0 0 24 24\"\n",
              "       width=\"24px\">\n",
              "    <path d=\"M0 0h24v24H0V0z\" fill=\"none\"/>\n",
              "    <path d=\"M18.56 5.44l.94 2.06.94-2.06 2.06-.94-2.06-.94-.94-2.06-.94 2.06-2.06.94zm-11 1L8.5 8.5l.94-2.06 2.06-.94-2.06-.94L8.5 2.5l-.94 2.06-2.06.94zm10 10l.94 2.06.94-2.06 2.06-.94-2.06-.94-.94-2.06-.94 2.06-2.06.94z\"/><path d=\"M17.41 7.96l-1.37-1.37c-.4-.4-.92-.59-1.43-.59-.52 0-1.04.2-1.43.59L10.3 9.45l-7.72 7.72c-.78.78-.78 2.05 0 2.83L4 21.41c.39.39.9.59 1.41.59.51 0 1.02-.2 1.41-.59l7.78-7.78 2.81-2.81c.8-.78.8-2.07 0-2.86zM5.41 20L4 18.59l7.72-7.72 1.47 1.35L5.41 20z\"/>\n",
              "  </svg>\n",
              "      </button>\n",
              "      \n",
              "  <style>\n",
              "    .colab-df-container {\n",
              "      display:flex;\n",
              "      flex-wrap:wrap;\n",
              "      gap: 12px;\n",
              "    }\n",
              "\n",
              "    .colab-df-convert {\n",
              "      background-color: #E8F0FE;\n",
              "      border: none;\n",
              "      border-radius: 50%;\n",
              "      cursor: pointer;\n",
              "      display: none;\n",
              "      fill: #1967D2;\n",
              "      height: 32px;\n",
              "      padding: 0 0 0 0;\n",
              "      width: 32px;\n",
              "    }\n",
              "\n",
              "    .colab-df-convert:hover {\n",
              "      background-color: #E2EBFA;\n",
              "      box-shadow: 0px 1px 2px rgba(60, 64, 67, 0.3), 0px 1px 3px 1px rgba(60, 64, 67, 0.15);\n",
              "      fill: #174EA6;\n",
              "    }\n",
              "\n",
              "    [theme=dark] .colab-df-convert {\n",
              "      background-color: #3B4455;\n",
              "      fill: #D2E3FC;\n",
              "    }\n",
              "\n",
              "    [theme=dark] .colab-df-convert:hover {\n",
              "      background-color: #434B5C;\n",
              "      box-shadow: 0px 1px 3px 1px rgba(0, 0, 0, 0.15);\n",
              "      filter: drop-shadow(0px 1px 2px rgba(0, 0, 0, 0.3));\n",
              "      fill: #FFFFFF;\n",
              "    }\n",
              "  </style>\n",
              "\n",
              "      <script>\n",
              "        const buttonEl =\n",
              "          document.querySelector('#df-69d1d294-0baa-4982-90af-3c12c3f8c76f button.colab-df-convert');\n",
              "        buttonEl.style.display =\n",
              "          google.colab.kernel.accessAllowed ? 'block' : 'none';\n",
              "\n",
              "        async function convertToInteractive(key) {\n",
              "          const element = document.querySelector('#df-69d1d294-0baa-4982-90af-3c12c3f8c76f');\n",
              "          const dataTable =\n",
              "            await google.colab.kernel.invokeFunction('convertToInteractive',\n",
              "                                                     [key], {});\n",
              "          if (!dataTable) return;\n",
              "\n",
              "          const docLinkHtml = 'Like what you see? Visit the ' +\n",
              "            '<a target=\"_blank\" href=https://colab.research.google.com/notebooks/data_table.ipynb>data table notebook</a>'\n",
              "            + ' to learn more about interactive tables.';\n",
              "          element.innerHTML = '';\n",
              "          dataTable['output_type'] = 'display_data';\n",
              "          await google.colab.output.renderOutput(dataTable, element);\n",
              "          const docLink = document.createElement('div');\n",
              "          docLink.innerHTML = docLinkHtml;\n",
              "          element.appendChild(docLink);\n",
              "        }\n",
              "      </script>\n",
              "    </div>\n",
              "  </div>\n",
              "  "
            ]
          },
          "metadata": {},
          "execution_count": 7
        }
      ]
    },
    {
      "cell_type": "markdown",
      "source": [
        "Lets calculate the values of diagnosed diseases for each diagnosis. \n",
        "The vast majority in all diseases except heart failure is Inapplicable. It looks like it applied in situations where the patient was not checked for this disease."
      ],
      "metadata": {
        "id": "h5zjq6y_fvZz"
      }
    },
    {
      "cell_type": "code",
      "source": [
        "\n",
        "dis = ['highBPDiagnosed', 'diabetesDiagnosed', 'chdDiagnosed',\n",
        "       'miDiagnosed', 'anginaDiagnosed', 'strokeDiagnosed',\n",
        "       'emphysemaDiagnosed', 'asthmaDiagnosed', 'otherHDDiagnosed',\n",
        "       'heartFailureDiagnosed']\n",
        "for d in dis:\n",
        "  print (d)\n",
        "  print (df_base[d][df_base['age']==-1].value_counts(dropna = False))"
      ],
      "metadata": {
        "colab": {
          "base_uri": "https://localhost:8080/"
        },
        "id": "P9N_F7cieVm6",
        "outputId": "c3100bb3-e93a-4144-8fbd-c76a2b57e2d4"
      },
      "execution_count": 8,
      "outputs": [
        {
          "output_type": "stream",
          "name": "stdout",
          "text": [
            "highBPDiagnosed\n",
            "Inapplicable    1598\n",
            "No                84\n",
            "Yes               25\n",
            "DK                 1\n",
            "Name: highBPDiagnosed, dtype: int64\n",
            "diabetesDiagnosed\n",
            "Inapplicable    1598\n",
            "No               102\n",
            "Yes                8\n",
            "Name: diabetesDiagnosed, dtype: int64\n",
            "chdDiagnosed\n",
            "Inapplicable    1598\n",
            "No               107\n",
            "Yes                3\n",
            "Name: chdDiagnosed, dtype: int64\n",
            "miDiagnosed\n",
            "Inapplicable    1598\n",
            "No               108\n",
            "Yes                2\n",
            "Name: miDiagnosed, dtype: int64\n",
            "anginaDiagnosed\n",
            "Inapplicable    1598\n",
            "No               110\n",
            "Name: anginaDiagnosed, dtype: int64\n",
            "strokeDiagnosed\n",
            "Inapplicable    1598\n",
            "No               107\n",
            "Yes                3\n",
            "Name: strokeDiagnosed, dtype: int64\n",
            "emphysemaDiagnosed\n",
            "Inapplicable    1598\n",
            "No               109\n",
            "Yes                1\n",
            "Name: emphysemaDiagnosed, dtype: int64\n",
            "asthmaDiagnosed\n",
            "Inapplicable    920\n",
            "No              765\n",
            "Yes              23\n",
            "Name: asthmaDiagnosed, dtype: int64\n",
            "otherHDDiagnosed\n",
            "Inapplicable    1598\n",
            "No               102\n",
            "Yes                8\n",
            "Name: otherHDDiagnosed, dtype: int64\n",
            "heartFailureDiagnosed\n",
            "No     1707\n",
            "Yes       1\n",
            "Name: heartFailureDiagnosed, dtype: int64\n"
          ]
        }
      ]
    },
    {
      "cell_type": "code",
      "source": [
        "df_meds=pd.read_csv('meps_meds.csv')\n",
        "print (df_meds.head())\n",
        "print (df_meds.describe())"
      ],
      "metadata": {
        "colab": {
          "base_uri": "https://localhost:8080/"
        },
        "id": "QUKkKAjuchCU",
        "outputId": "3b0a8ce7-951e-4e6c-9a5c-756d58f56159"
      },
      "execution_count": 9,
      "outputs": [
        {
          "output_type": "stream",
          "name": "stdout",
          "text": [
            "   Unnamed: 0        id  rxStartMonth  rxStartYear  \\\n",
            "0           1  10007104             3         2011   \n",
            "1           2  10007104             3         2011   \n",
            "2           3  10008102             3         2011   \n",
            "3           4  10008102             3         2011   \n",
            "4           5  10008102             9         2011   \n",
            "\n",
            "                           rxName        rxNDC  rxQuantity rxForm  \n",
            "0                     AMOXICILLIN    143988775        75.0   SUSR  \n",
            "1              OTIC EDGE SOLUTION  68032032814        14.0    SOL  \n",
            "2  NASAL DECONGESTANT 0.05% SPRAY  63981056903        15.0    SPR  \n",
            "3  NASAL DECONGESTANT 0.05% SPRAY  63981056903        15.0    SPR  \n",
            "4                    DIPHENHYDRAM    603333921        30.0    CAP  \n",
            "         Unnamed: 0            id   rxStartMonth    rxStartYear         rxNDC  \\\n",
            "count  4.293040e+05  4.293040e+05  429304.000000  429304.000000  4.293040e+05   \n",
            "mean   4.443042e+05  2.590337e+07       0.867765    1642.630891  2.300384e+10   \n",
            "std    5.767333e+05  1.495170e+07       4.653513     774.296242  2.866318e+10   \n",
            "min    1.000000e+00  1.000710e+07      -9.000000     -14.000000 -9.000000e+00   \n",
            "25%    1.074298e+05  1.353510e+07      -1.000000    1998.000000  1.723928e+08   \n",
            "50%    2.167055e+05  1.707510e+07      -1.000000    2007.000000  5.970040e+08   \n",
            "75%    5.733235e+05  4.318610e+07       3.000000    2010.000000  5.445810e+10   \n",
            "max    3.336210e+06  4.967110e+07      12.000000    2011.000000  9.920705e+10   \n",
            "\n",
            "          rxQuantity  \n",
            "count  429303.000000  \n",
            "mean       64.862578  \n",
            "std       580.989306  \n",
            "min        -9.000000  \n",
            "25%        30.000000  \n",
            "50%        30.000000  \n",
            "75%        90.000000  \n",
            "max    120000.000000  \n"
          ]
        }
      ]
    },
    {
      "cell_type": "markdown",
      "source": [
        "# Lets drop duplicates and drop the columns"
      ],
      "metadata": {
        "id": "eHftqt_1_Jgd"
      }
    },
    {
      "cell_type": "code",
      "source": [
        "df_meds.drop(columns='Unnamed: 0',inplace=True)\n",
        "df_meds.drop_duplicates(inplace=True)\n",
        "df_meds.describe()\n",
        "\n"
      ],
      "metadata": {
        "colab": {
          "base_uri": "https://localhost:8080/",
          "height": 300
        },
        "id": "Pd5TvZ14-o3P",
        "outputId": "53459b44-3fe6-4ff6-a624-be7d86eeda86"
      },
      "execution_count": 10,
      "outputs": [
        {
          "output_type": "execute_result",
          "data": {
            "text/plain": [
              "                 id   rxStartMonth    rxStartYear         rxNDC     rxQuantity\n",
              "count  1.303600e+05  130360.000000  130360.000000  1.303600e+05  130359.000000\n",
              "mean   2.628636e+07       1.767789    1690.796717  2.391517e+10      70.880990\n",
              "std    1.504778e+07       5.102994     732.783205  2.868372e+10     755.132182\n",
              "min    1.000710e+07      -9.000000     -14.000000 -9.000000e+00      -9.000000\n",
              "25%    1.359610e+07      -1.000000    2000.000000  1.730696e+08      30.000000\n",
              "50%    1.724110e+07      -1.000000    2009.000000  7.036801e+08      30.000000\n",
              "75%    4.335110e+07       6.000000    2010.000000  5.486810e+10      90.000000\n",
              "max    4.967110e+07      12.000000    2011.000000  9.920705e+10  120000.000000"
            ],
            "text/html": [
              "\n",
              "  <div id=\"df-d138e567-a264-4bf1-93c5-d84af56bd7e6\">\n",
              "    <div class=\"colab-df-container\">\n",
              "      <div>\n",
              "<style scoped>\n",
              "    .dataframe tbody tr th:only-of-type {\n",
              "        vertical-align: middle;\n",
              "    }\n",
              "\n",
              "    .dataframe tbody tr th {\n",
              "        vertical-align: top;\n",
              "    }\n",
              "\n",
              "    .dataframe thead th {\n",
              "        text-align: right;\n",
              "    }\n",
              "</style>\n",
              "<table border=\"1\" class=\"dataframe\">\n",
              "  <thead>\n",
              "    <tr style=\"text-align: right;\">\n",
              "      <th></th>\n",
              "      <th>id</th>\n",
              "      <th>rxStartMonth</th>\n",
              "      <th>rxStartYear</th>\n",
              "      <th>rxNDC</th>\n",
              "      <th>rxQuantity</th>\n",
              "    </tr>\n",
              "  </thead>\n",
              "  <tbody>\n",
              "    <tr>\n",
              "      <th>count</th>\n",
              "      <td>1.303600e+05</td>\n",
              "      <td>130360.000000</td>\n",
              "      <td>130360.000000</td>\n",
              "      <td>1.303600e+05</td>\n",
              "      <td>130359.000000</td>\n",
              "    </tr>\n",
              "    <tr>\n",
              "      <th>mean</th>\n",
              "      <td>2.628636e+07</td>\n",
              "      <td>1.767789</td>\n",
              "      <td>1690.796717</td>\n",
              "      <td>2.391517e+10</td>\n",
              "      <td>70.880990</td>\n",
              "    </tr>\n",
              "    <tr>\n",
              "      <th>std</th>\n",
              "      <td>1.504778e+07</td>\n",
              "      <td>5.102994</td>\n",
              "      <td>732.783205</td>\n",
              "      <td>2.868372e+10</td>\n",
              "      <td>755.132182</td>\n",
              "    </tr>\n",
              "    <tr>\n",
              "      <th>min</th>\n",
              "      <td>1.000710e+07</td>\n",
              "      <td>-9.000000</td>\n",
              "      <td>-14.000000</td>\n",
              "      <td>-9.000000e+00</td>\n",
              "      <td>-9.000000</td>\n",
              "    </tr>\n",
              "    <tr>\n",
              "      <th>25%</th>\n",
              "      <td>1.359610e+07</td>\n",
              "      <td>-1.000000</td>\n",
              "      <td>2000.000000</td>\n",
              "      <td>1.730696e+08</td>\n",
              "      <td>30.000000</td>\n",
              "    </tr>\n",
              "    <tr>\n",
              "      <th>50%</th>\n",
              "      <td>1.724110e+07</td>\n",
              "      <td>-1.000000</td>\n",
              "      <td>2009.000000</td>\n",
              "      <td>7.036801e+08</td>\n",
              "      <td>30.000000</td>\n",
              "    </tr>\n",
              "    <tr>\n",
              "      <th>75%</th>\n",
              "      <td>4.335110e+07</td>\n",
              "      <td>6.000000</td>\n",
              "      <td>2010.000000</td>\n",
              "      <td>5.486810e+10</td>\n",
              "      <td>90.000000</td>\n",
              "    </tr>\n",
              "    <tr>\n",
              "      <th>max</th>\n",
              "      <td>4.967110e+07</td>\n",
              "      <td>12.000000</td>\n",
              "      <td>2011.000000</td>\n",
              "      <td>9.920705e+10</td>\n",
              "      <td>120000.000000</td>\n",
              "    </tr>\n",
              "  </tbody>\n",
              "</table>\n",
              "</div>\n",
              "      <button class=\"colab-df-convert\" onclick=\"convertToInteractive('df-d138e567-a264-4bf1-93c5-d84af56bd7e6')\"\n",
              "              title=\"Convert this dataframe to an interactive table.\"\n",
              "              style=\"display:none;\">\n",
              "        \n",
              "  <svg xmlns=\"http://www.w3.org/2000/svg\" height=\"24px\"viewBox=\"0 0 24 24\"\n",
              "       width=\"24px\">\n",
              "    <path d=\"M0 0h24v24H0V0z\" fill=\"none\"/>\n",
              "    <path d=\"M18.56 5.44l.94 2.06.94-2.06 2.06-.94-2.06-.94-.94-2.06-.94 2.06-2.06.94zm-11 1L8.5 8.5l.94-2.06 2.06-.94-2.06-.94L8.5 2.5l-.94 2.06-2.06.94zm10 10l.94 2.06.94-2.06 2.06-.94-2.06-.94-.94-2.06-.94 2.06-2.06.94z\"/><path d=\"M17.41 7.96l-1.37-1.37c-.4-.4-.92-.59-1.43-.59-.52 0-1.04.2-1.43.59L10.3 9.45l-7.72 7.72c-.78.78-.78 2.05 0 2.83L4 21.41c.39.39.9.59 1.41.59.51 0 1.02-.2 1.41-.59l7.78-7.78 2.81-2.81c.8-.78.8-2.07 0-2.86zM5.41 20L4 18.59l7.72-7.72 1.47 1.35L5.41 20z\"/>\n",
              "  </svg>\n",
              "      </button>\n",
              "      \n",
              "  <style>\n",
              "    .colab-df-container {\n",
              "      display:flex;\n",
              "      flex-wrap:wrap;\n",
              "      gap: 12px;\n",
              "    }\n",
              "\n",
              "    .colab-df-convert {\n",
              "      background-color: #E8F0FE;\n",
              "      border: none;\n",
              "      border-radius: 50%;\n",
              "      cursor: pointer;\n",
              "      display: none;\n",
              "      fill: #1967D2;\n",
              "      height: 32px;\n",
              "      padding: 0 0 0 0;\n",
              "      width: 32px;\n",
              "    }\n",
              "\n",
              "    .colab-df-convert:hover {\n",
              "      background-color: #E2EBFA;\n",
              "      box-shadow: 0px 1px 2px rgba(60, 64, 67, 0.3), 0px 1px 3px 1px rgba(60, 64, 67, 0.15);\n",
              "      fill: #174EA6;\n",
              "    }\n",
              "\n",
              "    [theme=dark] .colab-df-convert {\n",
              "      background-color: #3B4455;\n",
              "      fill: #D2E3FC;\n",
              "    }\n",
              "\n",
              "    [theme=dark] .colab-df-convert:hover {\n",
              "      background-color: #434B5C;\n",
              "      box-shadow: 0px 1px 3px 1px rgba(0, 0, 0, 0.15);\n",
              "      filter: drop-shadow(0px 1px 2px rgba(0, 0, 0, 0.3));\n",
              "      fill: #FFFFFF;\n",
              "    }\n",
              "  </style>\n",
              "\n",
              "      <script>\n",
              "        const buttonEl =\n",
              "          document.querySelector('#df-d138e567-a264-4bf1-93c5-d84af56bd7e6 button.colab-df-convert');\n",
              "        buttonEl.style.display =\n",
              "          google.colab.kernel.accessAllowed ? 'block' : 'none';\n",
              "\n",
              "        async function convertToInteractive(key) {\n",
              "          const element = document.querySelector('#df-d138e567-a264-4bf1-93c5-d84af56bd7e6');\n",
              "          const dataTable =\n",
              "            await google.colab.kernel.invokeFunction('convertToInteractive',\n",
              "                                                     [key], {});\n",
              "          if (!dataTable) return;\n",
              "\n",
              "          const docLinkHtml = 'Like what you see? Visit the ' +\n",
              "            '<a target=\"_blank\" href=https://colab.research.google.com/notebooks/data_table.ipynb>data table notebook</a>'\n",
              "            + ' to learn more about interactive tables.';\n",
              "          element.innerHTML = '';\n",
              "          dataTable['output_type'] = 'display_data';\n",
              "          await google.colab.output.renderOutput(dataTable, element);\n",
              "          const docLink = document.createElement('div');\n",
              "          docLink.innerHTML = docLinkHtml;\n",
              "          element.appendChild(docLink);\n",
              "        }\n",
              "      </script>\n",
              "    </div>\n",
              "  </div>\n",
              "  "
            ]
          },
          "metadata": {},
          "execution_count": 10
        }
      ]
    },
    {
      "cell_type": "code",
      "source": [
        "#some of ids have many data points\n",
        "df_meds.groupby('id').count()['rxForm'].sort_values(ascending=False)"
      ],
      "metadata": {
        "colab": {
          "base_uri": "https://localhost:8080/"
        },
        "id": "52qSdDk9ldxV",
        "outputId": "06687148-6a7a-4153-82ad-3e9f7fd220c7"
      },
      "execution_count": 11,
      "outputs": [
        {
          "output_type": "execute_result",
          "data": {
            "text/plain": [
              "id\n",
              "12220101    87\n",
              "17082101    83\n",
              "10624101    80\n",
              "16961101    73\n",
              "17608101    70\n",
              "            ..\n",
              "44975102     1\n",
              "15473103     1\n",
              "15473104     1\n",
              "15473105     1\n",
              "18407103     1\n",
              "Name: rxForm, Length: 18535, dtype: int64"
            ]
          },
          "metadata": {},
          "execution_count": 11
        }
      ]
    },
    {
      "cell_type": "markdown",
      "source": [
        "Let see the values for one of the top users"
      ],
      "metadata": {
        "id": "hKKi9ZwmJWNX"
      }
    },
    {
      "cell_type": "code",
      "source": [
        "df_meds[df_meds['id']==44246101].head(10)"
      ],
      "metadata": {
        "colab": {
          "base_uri": "https://localhost:8080/",
          "height": 363
        },
        "id": "EGQcQ2eyJR05",
        "outputId": "648dc33f-f1d8-4594-c78b-ec88dd3bef2f"
      },
      "execution_count": 12,
      "outputs": [
        {
          "output_type": "execute_result",
          "data": {
            "text/plain": [
              "              id  rxStartMonth  rxStartYear        rxName        rxNDC  \\\n",
              "336128  44246101             1         2010  PREDNISOLONE  61314063705   \n",
              "336129  44246101            -1         1995      WARFARIN  68382005310   \n",
              "336130  44246101            -1           -8  POT CHLORIDE    781152601   \n",
              "336131  44246101            -1           -8    FUROSEMIDE    781144605   \n",
              "336135  44246101            -1           -8   ALENDRONATE  65862032904   \n",
              "336137  44246101            -1         1995      WARFARIN  68382005210   \n",
              "336161  44246101            -1           -8       LIPITOR     71015523   \n",
              "336185  44246101             2         2009     BUSPIRONE    591071818   \n",
              "336194  44246101             2         2009     BUSPIRONE    591071818   \n",
              "336202  44246101             2         2009     BUSPIRONE    591071818   \n",
              "\n",
              "        rxQuantity rxForm  \n",
              "336128         5.0   SUSP  \n",
              "336129        90.0   TABS  \n",
              "336130        60.0   TBCR  \n",
              "336131        30.0   TABS  \n",
              "336135         4.0   TABS  \n",
              "336137        30.0   TABS  \n",
              "336161        30.0   TABS  \n",
              "336185         8.0   TABS  \n",
              "336194        60.0   TABS  \n",
              "336202        75.0   TABS  "
            ],
            "text/html": [
              "\n",
              "  <div id=\"df-544744ee-26b2-4ed3-ac14-b444015eac9b\">\n",
              "    <div class=\"colab-df-container\">\n",
              "      <div>\n",
              "<style scoped>\n",
              "    .dataframe tbody tr th:only-of-type {\n",
              "        vertical-align: middle;\n",
              "    }\n",
              "\n",
              "    .dataframe tbody tr th {\n",
              "        vertical-align: top;\n",
              "    }\n",
              "\n",
              "    .dataframe thead th {\n",
              "        text-align: right;\n",
              "    }\n",
              "</style>\n",
              "<table border=\"1\" class=\"dataframe\">\n",
              "  <thead>\n",
              "    <tr style=\"text-align: right;\">\n",
              "      <th></th>\n",
              "      <th>id</th>\n",
              "      <th>rxStartMonth</th>\n",
              "      <th>rxStartYear</th>\n",
              "      <th>rxName</th>\n",
              "      <th>rxNDC</th>\n",
              "      <th>rxQuantity</th>\n",
              "      <th>rxForm</th>\n",
              "    </tr>\n",
              "  </thead>\n",
              "  <tbody>\n",
              "    <tr>\n",
              "      <th>336128</th>\n",
              "      <td>44246101</td>\n",
              "      <td>1</td>\n",
              "      <td>2010</td>\n",
              "      <td>PREDNISOLONE</td>\n",
              "      <td>61314063705</td>\n",
              "      <td>5.0</td>\n",
              "      <td>SUSP</td>\n",
              "    </tr>\n",
              "    <tr>\n",
              "      <th>336129</th>\n",
              "      <td>44246101</td>\n",
              "      <td>-1</td>\n",
              "      <td>1995</td>\n",
              "      <td>WARFARIN</td>\n",
              "      <td>68382005310</td>\n",
              "      <td>90.0</td>\n",
              "      <td>TABS</td>\n",
              "    </tr>\n",
              "    <tr>\n",
              "      <th>336130</th>\n",
              "      <td>44246101</td>\n",
              "      <td>-1</td>\n",
              "      <td>-8</td>\n",
              "      <td>POT CHLORIDE</td>\n",
              "      <td>781152601</td>\n",
              "      <td>60.0</td>\n",
              "      <td>TBCR</td>\n",
              "    </tr>\n",
              "    <tr>\n",
              "      <th>336131</th>\n",
              "      <td>44246101</td>\n",
              "      <td>-1</td>\n",
              "      <td>-8</td>\n",
              "      <td>FUROSEMIDE</td>\n",
              "      <td>781144605</td>\n",
              "      <td>30.0</td>\n",
              "      <td>TABS</td>\n",
              "    </tr>\n",
              "    <tr>\n",
              "      <th>336135</th>\n",
              "      <td>44246101</td>\n",
              "      <td>-1</td>\n",
              "      <td>-8</td>\n",
              "      <td>ALENDRONATE</td>\n",
              "      <td>65862032904</td>\n",
              "      <td>4.0</td>\n",
              "      <td>TABS</td>\n",
              "    </tr>\n",
              "    <tr>\n",
              "      <th>336137</th>\n",
              "      <td>44246101</td>\n",
              "      <td>-1</td>\n",
              "      <td>1995</td>\n",
              "      <td>WARFARIN</td>\n",
              "      <td>68382005210</td>\n",
              "      <td>30.0</td>\n",
              "      <td>TABS</td>\n",
              "    </tr>\n",
              "    <tr>\n",
              "      <th>336161</th>\n",
              "      <td>44246101</td>\n",
              "      <td>-1</td>\n",
              "      <td>-8</td>\n",
              "      <td>LIPITOR</td>\n",
              "      <td>71015523</td>\n",
              "      <td>30.0</td>\n",
              "      <td>TABS</td>\n",
              "    </tr>\n",
              "    <tr>\n",
              "      <th>336185</th>\n",
              "      <td>44246101</td>\n",
              "      <td>2</td>\n",
              "      <td>2009</td>\n",
              "      <td>BUSPIRONE</td>\n",
              "      <td>591071818</td>\n",
              "      <td>8.0</td>\n",
              "      <td>TABS</td>\n",
              "    </tr>\n",
              "    <tr>\n",
              "      <th>336194</th>\n",
              "      <td>44246101</td>\n",
              "      <td>2</td>\n",
              "      <td>2009</td>\n",
              "      <td>BUSPIRONE</td>\n",
              "      <td>591071818</td>\n",
              "      <td>60.0</td>\n",
              "      <td>TABS</td>\n",
              "    </tr>\n",
              "    <tr>\n",
              "      <th>336202</th>\n",
              "      <td>44246101</td>\n",
              "      <td>2</td>\n",
              "      <td>2009</td>\n",
              "      <td>BUSPIRONE</td>\n",
              "      <td>591071818</td>\n",
              "      <td>75.0</td>\n",
              "      <td>TABS</td>\n",
              "    </tr>\n",
              "  </tbody>\n",
              "</table>\n",
              "</div>\n",
              "      <button class=\"colab-df-convert\" onclick=\"convertToInteractive('df-544744ee-26b2-4ed3-ac14-b444015eac9b')\"\n",
              "              title=\"Convert this dataframe to an interactive table.\"\n",
              "              style=\"display:none;\">\n",
              "        \n",
              "  <svg xmlns=\"http://www.w3.org/2000/svg\" height=\"24px\"viewBox=\"0 0 24 24\"\n",
              "       width=\"24px\">\n",
              "    <path d=\"M0 0h24v24H0V0z\" fill=\"none\"/>\n",
              "    <path d=\"M18.56 5.44l.94 2.06.94-2.06 2.06-.94-2.06-.94-.94-2.06-.94 2.06-2.06.94zm-11 1L8.5 8.5l.94-2.06 2.06-.94-2.06-.94L8.5 2.5l-.94 2.06-2.06.94zm10 10l.94 2.06.94-2.06 2.06-.94-2.06-.94-.94-2.06-.94 2.06-2.06.94z\"/><path d=\"M17.41 7.96l-1.37-1.37c-.4-.4-.92-.59-1.43-.59-.52 0-1.04.2-1.43.59L10.3 9.45l-7.72 7.72c-.78.78-.78 2.05 0 2.83L4 21.41c.39.39.9.59 1.41.59.51 0 1.02-.2 1.41-.59l7.78-7.78 2.81-2.81c.8-.78.8-2.07 0-2.86zM5.41 20L4 18.59l7.72-7.72 1.47 1.35L5.41 20z\"/>\n",
              "  </svg>\n",
              "      </button>\n",
              "      \n",
              "  <style>\n",
              "    .colab-df-container {\n",
              "      display:flex;\n",
              "      flex-wrap:wrap;\n",
              "      gap: 12px;\n",
              "    }\n",
              "\n",
              "    .colab-df-convert {\n",
              "      background-color: #E8F0FE;\n",
              "      border: none;\n",
              "      border-radius: 50%;\n",
              "      cursor: pointer;\n",
              "      display: none;\n",
              "      fill: #1967D2;\n",
              "      height: 32px;\n",
              "      padding: 0 0 0 0;\n",
              "      width: 32px;\n",
              "    }\n",
              "\n",
              "    .colab-df-convert:hover {\n",
              "      background-color: #E2EBFA;\n",
              "      box-shadow: 0px 1px 2px rgba(60, 64, 67, 0.3), 0px 1px 3px 1px rgba(60, 64, 67, 0.15);\n",
              "      fill: #174EA6;\n",
              "    }\n",
              "\n",
              "    [theme=dark] .colab-df-convert {\n",
              "      background-color: #3B4455;\n",
              "      fill: #D2E3FC;\n",
              "    }\n",
              "\n",
              "    [theme=dark] .colab-df-convert:hover {\n",
              "      background-color: #434B5C;\n",
              "      box-shadow: 0px 1px 3px 1px rgba(0, 0, 0, 0.15);\n",
              "      filter: drop-shadow(0px 1px 2px rgba(0, 0, 0, 0.3));\n",
              "      fill: #FFFFFF;\n",
              "    }\n",
              "  </style>\n",
              "\n",
              "      <script>\n",
              "        const buttonEl =\n",
              "          document.querySelector('#df-544744ee-26b2-4ed3-ac14-b444015eac9b button.colab-df-convert');\n",
              "        buttonEl.style.display =\n",
              "          google.colab.kernel.accessAllowed ? 'block' : 'none';\n",
              "\n",
              "        async function convertToInteractive(key) {\n",
              "          const element = document.querySelector('#df-544744ee-26b2-4ed3-ac14-b444015eac9b');\n",
              "          const dataTable =\n",
              "            await google.colab.kernel.invokeFunction('convertToInteractive',\n",
              "                                                     [key], {});\n",
              "          if (!dataTable) return;\n",
              "\n",
              "          const docLinkHtml = 'Like what you see? Visit the ' +\n",
              "            '<a target=\"_blank\" href=https://colab.research.google.com/notebooks/data_table.ipynb>data table notebook</a>'\n",
              "            + ' to learn more about interactive tables.';\n",
              "          element.innerHTML = '';\n",
              "          dataTable['output_type'] = 'display_data';\n",
              "          await google.colab.output.renderOutput(dataTable, element);\n",
              "          const docLink = document.createElement('div');\n",
              "          docLink.innerHTML = docLinkHtml;\n",
              "          element.appendChild(docLink);\n",
              "        }\n",
              "      </script>\n",
              "    </div>\n",
              "  </div>\n",
              "  "
            ]
          },
          "metadata": {},
          "execution_count": 12
        }
      ]
    },
    {
      "cell_type": "code",
      "source": [
        "df_meds[df_meds['id']==44246101]['rxStartYear'].value_counts()"
      ],
      "metadata": {
        "colab": {
          "base_uri": "https://localhost:8080/"
        },
        "id": "8kCL0ctmlvdW",
        "outputId": "ddae3e65-8c34-4716-bbe4-db39bee8dabc"
      },
      "execution_count": 13,
      "outputs": [
        {
          "output_type": "execute_result",
          "data": {
            "text/plain": [
              "-8       12\n",
              " 2009     5\n",
              " 1995     4\n",
              " 2008     2\n",
              " 2010     1\n",
              "Name: rxStartYear, dtype: int64"
            ]
          },
          "metadata": {},
          "execution_count": 13
        }
      ]
    },
    {
      "cell_type": "code",
      "source": [
        "df_meds[df_meds['rxStartMonth']>0].groupby(['id','rxStartMonth','rxStartYear']).apply(lambda x: x['rxName'].tolist())"
      ],
      "metadata": {
        "colab": {
          "base_uri": "https://localhost:8080/"
        },
        "id": "a6zZGYIVJ6KA",
        "outputId": "32dc37e8-b54e-4939-eed2-645337c2178d"
      },
      "execution_count": 14,
      "outputs": [
        {
          "output_type": "execute_result",
          "data": {
            "text/plain": [
              "id        rxStartMonth  rxStartYear\n",
              "10007101  1             2010                              [AZITHROMYCIN]\n",
              "          12            2010                                  [ATENOLOL]\n",
              "10007102  2             2009                                  [TREXIMET]\n",
              "          8             2010                [HYDROCO/APAP, CARISOPRODOL]\n",
              "10007104  3             2011           [AMOXICILLIN, OTIC EDGE SOLUTION]\n",
              "                                                     ...                \n",
              "49668101  2             2009                                 [VITAMIN D]\n",
              "          7             2008                                [METOPROLOL]\n",
              "49671101  7             2009                    [GABAPENTIN, GABAPENTIN]\n",
              "                        2010                               [AMOX/K CLAV]\n",
              "          9             2009                                 [IBUPROFEN]\n",
              "Length: 33591, dtype: object"
            ]
          },
          "metadata": {},
          "execution_count": 14
        }
      ]
    },
    {
      "cell_type": "code",
      "source": [],
      "metadata": {
        "id": "Wx-UYt_V-Rax"
      },
      "execution_count": 14,
      "outputs": []
    },
    {
      "cell_type": "code",
      "source": [
        "#Large portion of rx Year data is negative\n",
        "sns.set(rc={'figure.figsize':(25.7,8.27)})\n",
        "sns.countplot(df_meds['rxStartYear'])"
      ],
      "metadata": {
        "colab": {
          "base_uri": "https://localhost:8080/",
          "height": 470
        },
        "id": "eSYnjetSmNda",
        "outputId": "dd1b0541-71bd-4060-c72d-cc17da3afc57"
      },
      "execution_count": 15,
      "outputs": [
        {
          "output_type": "execute_result",
          "data": {
            "text/plain": [
              "<matplotlib.axes._subplots.AxesSubplot at 0x7fcaa77c5710>"
            ]
          },
          "metadata": {},
          "execution_count": 15
        },
        {
          "output_type": "display_data",
          "data": {
            "text/plain": [
              "<Figure size 1850.4x595.44 with 1 Axes>"
            ],
            "image/png": "[encoded data removed]"
          },
          "metadata": {}
        }
      ]
    },
    {
      "cell_type": "code",
      "source": [
        "sns.set(rc={'figure.figsize':(25.7,8.27)})\n",
        "sns.countplot(df_meds['rxStartMonth'])"
      ],
      "metadata": {
        "colab": {
          "base_uri": "https://localhost:8080/",
          "height": 472
        },
        "id": "VWat_cP5gf5E",
        "outputId": "da0c4611-95db-4d56-83f3-745a42503330"
      },
      "execution_count": 16,
      "outputs": [
        {
          "output_type": "execute_result",
          "data": {
            "text/plain": [
              "<matplotlib.axes._subplots.AxesSubplot at 0x7fcaa75d6ad0>"
            ]
          },
          "metadata": {},
          "execution_count": 16
        },
        {
          "output_type": "display_data",
          "data": {
            "text/plain": [
              "<Figure size 1850.4x595.44 with 1 Axes>"
            ],
            "image/png": "[encoded data removed]"
          },
          "metadata": {}
        }
      ]
    },
    {
      "cell_type": "markdown",
      "source": [
        "Around 40% of date related years are negative, i.e. may be faulty.\n",
        "Around 72% of months are negative \n",
        "We need to decide if we need to clean the dataset from them, given their large presence "
      ],
      "metadata": {
        "id": "7BNrsSWhg7D0"
      }
    },
    {
      "cell_type": "code",
      "source": [
        "print (df_meds['rxStartYear'][df_meds['rxStartYear']<0].count()/df_meds['rxStartYear'].count())\n",
        "print (df_meds['rxStartMonth'][df_meds['rxStartMonth']<0].count()/df_meds['rxStartMonth'].count())"
      ],
      "metadata": {
        "colab": {
          "base_uri": "https://localhost:8080/"
        },
        "id": "X-cgWxJSn5AZ",
        "outputId": "0c9f3c3c-134a-4e02-99a7-1b237a612132"
      },
      "execution_count": 17,
      "outputs": [
        {
          "output_type": "stream",
          "name": "stdout",
          "text": [
            "0.15682724762196992\n",
            "0.5296026388462719\n"
          ]
        }
      ]
    },
    {
      "cell_type": "markdown",
      "source": [
        "Lets see what years we have for  negative months. Apparently, we have valid years for negative months."
      ],
      "metadata": {
        "id": "IN9t3jsEjazT"
      }
    },
    {
      "cell_type": "code",
      "source": [
        "sns.countplot(df_meds['rxStartYear'][df_meds['rxStartMonth']<0])"
      ],
      "metadata": {
        "colab": {
          "base_uri": "https://localhost:8080/",
          "height": 470
        },
        "id": "RkSTS8IqhNrj",
        "outputId": "b54c0e65-57d1-4dc8-8923-20b766ac1b47"
      },
      "execution_count": 18,
      "outputs": [
        {
          "output_type": "execute_result",
          "data": {
            "text/plain": [
              "<matplotlib.axes._subplots.AxesSubplot at 0x7fcaa74005d0>"
            ]
          },
          "metadata": {},
          "execution_count": 18
        },
        {
          "output_type": "display_data",
          "data": {
            "text/plain": [
              "<Figure size 1850.4x595.44 with 1 Axes>"
            ],
            "image/png": "[encoded data removed]"
          },
          "metadata": {}
        }
      ]
    },
    {
      "cell_type": "code",
      "source": [
        "df_meds['rxStartYear'][df_meds['rxStartMonth']<0].value_counts().sort_index()"
      ],
      "metadata": {
        "colab": {
          "base_uri": "https://localhost:8080/"
        },
        "id": "AM62nbqtiz6C",
        "outputId": "4089a2ed-e213-4bf9-b444-2e2eaf577e0b"
      },
      "execution_count": 19,
      "outputs": [
        {
          "output_type": "execute_result",
          "data": {
            "text/plain": [
              "-14        241\n",
              "-9        4100\n",
              "-8       15980\n",
              "-7         123\n",
              " 1940        3\n",
              "         ...  \n",
              " 2007     5894\n",
              " 2008     6264\n",
              " 2009     3105\n",
              " 2010     2404\n",
              " 2011      835\n",
              "Name: rxStartYear, Length: 67, dtype: int64"
            ]
          },
          "metadata": {},
          "execution_count": 19
        }
      ]
    },
    {
      "cell_type": "markdown",
      "source": [
        "For negative years we have all negative months"
      ],
      "metadata": {
        "id": "ab-Cxd9njqpO"
      }
    },
    {
      "cell_type": "code",
      "source": [
        "sns.countplot(df_meds['rxStartMonth'][df_meds['rxStartYear']<0])"
      ],
      "metadata": {
        "colab": {
          "base_uri": "https://localhost:8080/",
          "height": 472
        },
        "id": "IEyAI5neiiwR",
        "outputId": "f0f2c5e1-f3c9-4133-b2ad-8418519b69d9"
      },
      "execution_count": 20,
      "outputs": [
        {
          "output_type": "execute_result",
          "data": {
            "text/plain": [
              "<matplotlib.axes._subplots.AxesSubplot at 0x7fcaa7195150>"
            ]
          },
          "metadata": {},
          "execution_count": 20
        },
        {
          "output_type": "display_data",
          "data": {
            "text/plain": [
              "<Figure size 1850.4x595.44 with 1 Axes>"
            ],
            "image/png": "[encoded data removed]"
          },
          "metadata": {}
        }
      ]
    },
    {
      "cell_type": "markdown",
      "source": [
        "We need to make a decision about negative months and years. What we will do is to analyze full datasete and dataset containing the last 10 years since the max date 2011. Per describe function , the 50% quartile for years starts with 2011 and as such we will create a dataframe where years start with 2001."
      ],
      "metadata": {
        "id": "TFOG_NCpl3ly"
      }
    },
    {
      "cell_type": "markdown",
      "source": [
        "\n"
      ],
      "metadata": {
        "id": "3MXDq32Nnl8U"
      }
    },
    {
      "cell_type": "code",
      "source": [
        "#check the null data\n",
        "df_meds.isnull().mean()"
      ],
      "metadata": {
        "colab": {
          "base_uri": "https://localhost:8080/"
        },
        "id": "ELEdn08zlWlH",
        "outputId": "3ef9e872-1bd0-4866-c4d2-eb70fe7c82d5"
      },
      "execution_count": 21,
      "outputs": [
        {
          "output_type": "execute_result",
          "data": {
            "text/plain": [
              "id              0.000000\n",
              "rxStartMonth    0.000000\n",
              "rxStartYear     0.000000\n",
              "rxName          0.000000\n",
              "rxNDC           0.000000\n",
              "rxQuantity      0.000008\n",
              "rxForm          0.000008\n",
              "dtype: float64"
            ]
          },
          "metadata": {},
          "execution_count": 21
        }
      ]
    },
    {
      "cell_type": "markdown",
      "source": [
        "Given the meps_base_data & meps_meds data sets:\n",
        "- *What are the most common medications for each disease in the base file?* \n",
        "To solve it, we need to group by disease\n",
        "- *What medications are most indicative of each disease?*\n",
        "- Demonstrate that the end user should be confident in the result."
      ],
      "metadata": {
        "id": "CDA1_lLZhg9a"
      }
    },
    {
      "cell_type": "code",
      "source": [
        "#Lets create two joined tables, one with cleaned date, i.e. more than 0 and another with all dates\n",
        "df_join = df_base.merge(df_meds, on = 'id', how ='inner')\n",
        "#df_join_date = df_base.merge(df_meds_date, on = 'id', how ='inner')\n",
        "df_join.head()"
      ],
      "metadata": {
        "colab": {
          "base_uri": "https://localhost:8080/",
          "height": 317
        },
        "id": "G0rbDNK-htMh",
        "outputId": "4d411d34-65c6-4594-9da9-97ed1339fe64"
      },
      "execution_count": 22,
      "outputs": [
        {
          "output_type": "execute_result",
          "data": {
            "text/plain": [
              "   Unnamed: 0        id  panel  pooledWeight  age     sex   race  married  \\\n",
              "0           1  10007101     15   3603.881236   28    Male  White  MARRIED   \n",
              "1           1  10007101     15   3603.881236   28    Male  White  MARRIED   \n",
              "2           1  10007101     15   3603.881236   28    Male  White  MARRIED   \n",
              "3           2  10007102     15   2544.550424   25  Female  White  MARRIED   \n",
              "4           2  10007102     15   2544.550424   25  Female  White  MARRIED   \n",
              "\n",
              "  highBPDiagnosed diabetesDiagnosed  ... emphysemaDiagnosed asthmaDiagnosed  \\\n",
              "0             Yes                No  ...                 No              No   \n",
              "1             Yes                No  ...                 No              No   \n",
              "2             Yes                No  ...                 No              No   \n",
              "3              No                No  ...                 No             Yes   \n",
              "4              No                No  ...                 No             Yes   \n",
              "\n",
              "  otherHDDiagnosed heartFailureDiagnosed rxStartMonth rxStartYear  \\\n",
              "0               No                    No           -1        2005   \n",
              "1               No                    No            1        2010   \n",
              "2               No                    No           12        2010   \n",
              "3               No                    No            2        2009   \n",
              "4               No                    No            8        2010   \n",
              "\n",
              "         rxName        rxNDC  rxQuantity  rxForm  \n",
              "0      ATENOLOL  68382002210        30.0    TABS  \n",
              "1  AZITHROMYCIN  59762314001        30.0    SUSR  \n",
              "2      ATENOLOL  51079068463        90.0     TAB  \n",
              "3      TREXIMET    173075000        18.0    TABS  \n",
              "4  HYDROCO/APAP    406036005        10.0    TABS  \n",
              "\n",
              "[5 rows x 24 columns]"
            ],
            "text/html": [
              "\n",
              "  <div id=\"df-b1c3d4d1-14a9-4a52-94c3-a375caf79b2a\">\n",
              "    <div class=\"colab-df-container\">\n",
              "      <div>\n",
              "<style scoped>\n",
              "    .dataframe tbody tr th:only-of-type {\n",
              "        vertical-align: middle;\n",
              "    }\n",
              "\n",
              "    .dataframe tbody tr th {\n",
              "        vertical-align: top;\n",
              "    }\n",
              "\n",
              "    .dataframe thead th {\n",
              "        text-align: right;\n",
              "    }\n",
              "</style>\n",
              "<table border=\"1\" class=\"dataframe\">\n",
              "  <thead>\n",
              "    <tr style=\"text-align: right;\">\n",
              "      <th></th>\n",
              "      <th>Unnamed: 0</th>\n",
              "      <th>id</th>\n",
              "      <th>panel</th>\n",
              "      <th>pooledWeight</th>\n",
              "      <th>age</th>\n",
              "      <th>sex</th>\n",
              "      <th>race</th>\n",
              "      <th>married</th>\n",
              "      <th>highBPDiagnosed</th>\n",
              "      <th>diabetesDiagnosed</th>\n",
              "      <th>...</th>\n",
              "      <th>emphysemaDiagnosed</th>\n",
              "      <th>asthmaDiagnosed</th>\n",
              "      <th>otherHDDiagnosed</th>\n",
              "      <th>heartFailureDiagnosed</th>\n",
              "      <th>rxStartMonth</th>\n",
              "      <th>rxStartYear</th>\n",
              "      <th>rxName</th>\n",
              "      <th>rxNDC</th>\n",
              "      <th>rxQuantity</th>\n",
              "      <th>rxForm</th>\n",
              "    </tr>\n",
              "  </thead>\n",
              "  <tbody>\n",
              "    <tr>\n",
              "      <th>0</th>\n",
              "      <td>1</td>\n",
              "      <td>10007101</td>\n",
              "      <td>15</td>\n",
              "      <td>3603.881236</td>\n",
              "      <td>28</td>\n",
              "      <td>Male</td>\n",
              "      <td>White</td>\n",
              "      <td>MARRIED</td>\n",
              "      <td>Yes</td>\n",
              "      <td>No</td>\n",
              "      <td>...</td>\n",
              "      <td>No</td>\n",
              "      <td>No</td>\n",
              "      <td>No</td>\n",
              "      <td>No</td>\n",
              "      <td>-1</td>\n",
              "      <td>2005</td>\n",
              "      <td>ATENOLOL</td>\n",
              "      <td>68382002210</td>\n",
              "      <td>30.0</td>\n",
              "      <td>TABS</td>\n",
              "    </tr>\n",
              "    <tr>\n",
              "      <th>1</th>\n",
              "      <td>1</td>\n",
              "      <td>10007101</td>\n",
              "      <td>15</td>\n",
              "      <td>3603.881236</td>\n",
              "      <td>28</td>\n",
              "      <td>Male</td>\n",
              "      <td>White</td>\n",
              "      <td>MARRIED</td>\n",
              "      <td>Yes</td>\n",
              "      <td>No</td>\n",
              "      <td>...</td>\n",
              "      <td>No</td>\n",
              "      <td>No</td>\n",
              "      <td>No</td>\n",
              "      <td>No</td>\n",
              "      <td>1</td>\n",
              "      <td>2010</td>\n",
              "      <td>AZITHROMYCIN</td>\n",
              "      <td>59762314001</td>\n",
              "      <td>30.0</td>\n",
              "      <td>SUSR</td>\n",
              "    </tr>\n",
              "    <tr>\n",
              "      <th>2</th>\n",
              "      <td>1</td>\n",
              "      <td>10007101</td>\n",
              "      <td>15</td>\n",
              "      <td>3603.881236</td>\n",
              "      <td>28</td>\n",
              "      <td>Male</td>\n",
              "      <td>White</td>\n",
              "      <td>MARRIED</td>\n",
              "      <td>Yes</td>\n",
              "      <td>No</td>\n",
              "      <td>...</td>\n",
              "      <td>No</td>\n",
              "      <td>No</td>\n",
              "      <td>No</td>\n",
              "      <td>No</td>\n",
              "      <td>12</td>\n",
              "      <td>2010</td>\n",
              "      <td>ATENOLOL</td>\n",
              "      <td>51079068463</td>\n",
              "      <td>90.0</td>\n",
              "      <td>TAB</td>\n",
              "    </tr>\n",
              "    <tr>\n",
              "      <th>3</th>\n",
              "      <td>2</td>\n",
              "      <td>10007102</td>\n",
              "      <td>15</td>\n",
              "      <td>2544.550424</td>\n",
              "      <td>25</td>\n",
              "      <td>Female</td>\n",
              "      <td>White</td>\n",
              "      <td>MARRIED</td>\n",
              "      <td>No</td>\n",
              "      <td>No</td>\n",
              "      <td>...</td>\n",
              "      <td>No</td>\n",
              "      <td>Yes</td>\n",
              "      <td>No</td>\n",
              "      <td>No</td>\n",
              "      <td>2</td>\n",
              "      <td>2009</td>\n",
              "      <td>TREXIMET</td>\n",
              "      <td>173075000</td>\n",
              "      <td>18.0</td>\n",
              "      <td>TABS</td>\n",
              "    </tr>\n",
              "    <tr>\n",
              "      <th>4</th>\n",
              "      <td>2</td>\n",
              "      <td>10007102</td>\n",
              "      <td>15</td>\n",
              "      <td>2544.550424</td>\n",
              "      <td>25</td>\n",
              "      <td>Female</td>\n",
              "      <td>White</td>\n",
              "      <td>MARRIED</td>\n",
              "      <td>No</td>\n",
              "      <td>No</td>\n",
              "      <td>...</td>\n",
              "      <td>No</td>\n",
              "      <td>Yes</td>\n",
              "      <td>No</td>\n",
              "      <td>No</td>\n",
              "      <td>8</td>\n",
              "      <td>2010</td>\n",
              "      <td>HYDROCO/APAP</td>\n",
              "      <td>406036005</td>\n",
              "      <td>10.0</td>\n",
              "      <td>TABS</td>\n",
              "    </tr>\n",
              "  </tbody>\n",
              "</table>\n",
              "<p>5 rows × 24 columns</p>\n",
              "</div>\n",
              "      <button class=\"colab-df-convert\" onclick=\"convertToInteractive('df-b1c3d4d1-14a9-4a52-94c3-a375caf79b2a')\"\n",
              "              title=\"Convert this dataframe to an interactive table.\"\n",
              "              style=\"display:none;\">\n",
              "        \n",
              "  <svg xmlns=\"http://www.w3.org/2000/svg\" height=\"24px\"viewBox=\"0 0 24 24\"\n",
              "       width=\"24px\">\n",
              "    <path d=\"M0 0h24v24H0V0z\" fill=\"none\"/>\n",
              "    <path d=\"M18.56 5.44l.94 2.06.94-2.06 2.06-.94-2.06-.94-.94-2.06-.94 2.06-2.06.94zm-11 1L8.5 8.5l.94-2.06 2.06-.94-2.06-.94L8.5 2.5l-.94 2.06-2.06.94zm10 10l.94 2.06.94-2.06 2.06-.94-2.06-.94-.94-2.06-.94 2.06-2.06.94z\"/><path d=\"M17.41 7.96l-1.37-1.37c-.4-.4-.92-.59-1.43-.59-.52 0-1.04.2-1.43.59L10.3 9.45l-7.72 7.72c-.78.78-.78 2.05 0 2.83L4 21.41c.39.39.9.59 1.41.59.51 0 1.02-.2 1.41-.59l7.78-7.78 2.81-2.81c.8-.78.8-2.07 0-2.86zM5.41 20L4 18.59l7.72-7.72 1.47 1.35L5.41 20z\"/>\n",
              "  </svg>\n",
              "      </button>\n",
              "      \n",
              "  <style>\n",
              "    .colab-df-container {\n",
              "      display:flex;\n",
              "      flex-wrap:wrap;\n",
              "      gap: 12px;\n",
              "    }\n",
              "\n",
              "    .colab-df-convert {\n",
              "      background-color: #E8F0FE;\n",
              "      border: none;\n",
              "      border-radius: 50%;\n",
              "      cursor: pointer;\n",
              "      display: none;\n",
              "      fill: #1967D2;\n",
              "      height: 32px;\n",
              "      padding: 0 0 0 0;\n",
              "      width: 32px;\n",
              "    }\n",
              "\n",
              "    .colab-df-convert:hover {\n",
              "      background-color: #E2EBFA;\n",
              "      box-shadow: 0px 1px 2px rgba(60, 64, 67, 0.3), 0px 1px 3px 1px rgba(60, 64, 67, 0.15);\n",
              "      fill: #174EA6;\n",
              "    }\n",
              "\n",
              "    [theme=dark] .colab-df-convert {\n",
              "      background-color: #3B4455;\n",
              "      fill: #D2E3FC;\n",
              "    }\n",
              "\n",
              "    [theme=dark] .colab-df-convert:hover {\n",
              "      background-color: #434B5C;\n",
              "      box-shadow: 0px 1px 3px 1px rgba(0, 0, 0, 0.15);\n",
              "      filter: drop-shadow(0px 1px 2px rgba(0, 0, 0, 0.3));\n",
              "      fill: #FFFFFF;\n",
              "    }\n",
              "  </style>\n",
              "\n",
              "      <script>\n",
              "        const buttonEl =\n",
              "          document.querySelector('#df-b1c3d4d1-14a9-4a52-94c3-a375caf79b2a button.colab-df-convert');\n",
              "        buttonEl.style.display =\n",
              "          google.colab.kernel.accessAllowed ? 'block' : 'none';\n",
              "\n",
              "        async function convertToInteractive(key) {\n",
              "          const element = document.querySelector('#df-b1c3d4d1-14a9-4a52-94c3-a375caf79b2a');\n",
              "          const dataTable =\n",
              "            await google.colab.kernel.invokeFunction('convertToInteractive',\n",
              "                                                     [key], {});\n",
              "          if (!dataTable) return;\n",
              "\n",
              "          const docLinkHtml = 'Like what you see? Visit the ' +\n",
              "            '<a target=\"_blank\" href=https://colab.research.google.com/notebooks/data_table.ipynb>data table notebook</a>'\n",
              "            + ' to learn more about interactive tables.';\n",
              "          element.innerHTML = '';\n",
              "          dataTable['output_type'] = 'display_data';\n",
              "          await google.colab.output.renderOutput(dataTable, element);\n",
              "          const docLink = document.createElement('div');\n",
              "          docLink.innerHTML = docLinkHtml;\n",
              "          element.appendChild(docLink);\n",
              "        }\n",
              "      </script>\n",
              "    </div>\n",
              "  </div>\n",
              "  "
            ]
          },
          "metadata": {},
          "execution_count": 22
        }
      ]
    },
    {
      "cell_type": "markdown",
      "source": [
        " Lets analyze the diabetes column to see it's values distribution. It's not clear what column DK stands for. \n",
        "However its count is small so we can probably ignore it"
      ],
      "metadata": {
        "id": "q9UXqLZKmbJE"
      }
    },
    {
      "cell_type": "code",
      "source": [
        "\n",
        "  sns.set(rc={'figure.figsize':(11.7,8.27)})\n",
        "  g=sns.countplot(df_base['diabetesDiagnosed'])\n",
        "  g.set_yscale(\"log\")"
      ],
      "metadata": {
        "colab": {
          "base_uri": "https://localhost:8080/",
          "height": 517
        },
        "id": "pGcK6xGZs7L5",
        "outputId": "9a1e2d01-2b5d-44a5-bf7a-ed89f0f7f7a9"
      },
      "execution_count": 23,
      "outputs": [
        {
          "output_type": "display_data",
          "data": {
            "text/plain": [
              "<Figure size 842.4x595.44 with 1 Axes>"
            ],
            "image/png": "[encoded data removed]"
          },
          "metadata": {}
        }
      ]
    },
    {
      "cell_type": "code",
      "source": [
        "#Lets check the above data in numbers \n",
        "df_join[['diabetesDiagnosed','rxName']].groupby('diabetesDiagnosed')['rxName'].count()"
      ],
      "metadata": {
        "colab": {
          "base_uri": "https://localhost:8080/"
        },
        "id": "YqekWHmGjUd1",
        "outputId": "5b607000-0d31-4209-8612-d0d1b5d41f8b"
      },
      "execution_count": 24,
      "outputs": [
        {
          "output_type": "execute_result",
          "data": {
            "text/plain": [
              "diabetesDiagnosed\n",
              "Inapplicable    13024\n",
              "No              83397\n",
              "Refused             4\n",
              "Yes             33935\n",
              "Name: rxName, dtype: int64"
            ]
          },
          "metadata": {},
          "execution_count": 24
        }
      ]
    },
    {
      "cell_type": "markdown",
      "source": [
        "Lets calculate the top 3 medicines for all diseases where the diagnosis is Yes in absolute and percentage values"
      ],
      "metadata": {
        "id": "W4QjPv1Om3oS"
      }
    },
    {
      "cell_type": "code",
      "source": [
        "lst=[]\n",
        "for i in dis:\n",
        "  temp_series = df_join[df_join[i]=='Yes'].groupby('rxName').count()[i].sort_values(ascending=False).head(3)\n",
        "  lst.append(temp_series)\n",
        "dis_medicine= pd.concat(lst, axis=1)\n",
        "dis_medicine"
      ],
      "metadata": {
        "colab": {
          "base_uri": "https://localhost:8080/",
          "height": 458
        },
        "id": "u0yevSpa1NT9",
        "outputId": "c099393b-0a2d-4317-cfe0-17cd6d246393"
      },
      "execution_count": 25,
      "outputs": [
        {
          "output_type": "execute_result",
          "data": {
            "text/plain": [
              "              highBPDiagnosed  diabetesDiagnosed  chdDiagnosed  miDiagnosed  \\\n",
              "rxName                                                                        \n",
              "LISINOPRIL             3091.0             1232.0         561.0        416.0   \n",
              "SIMVASTATIN            2587.0             1200.0         689.0        475.0   \n",
              "METFORMIN              1912.0             2274.0           NaN          NaN   \n",
              "FUROSEMIDE                NaN                NaN         530.0        352.0   \n",
              "PLAVIX                    NaN                NaN           NaN          NaN   \n",
              "HYDROCO/APAP              NaN                NaN           NaN          NaN   \n",
              "ALBUTEROL                 NaN                NaN           NaN          NaN   \n",
              "SINGULAIR                 NaN                NaN           NaN          NaN   \n",
              "AZITHROMYCIN              NaN                NaN           NaN          NaN   \n",
              "CARVEDILOL                NaN                NaN           NaN          NaN   \n",
              "\n",
              "              anginaDiagnosed  strokeDiagnosed  emphysemaDiagnosed  \\\n",
              "rxName                                                               \n",
              "LISINOPRIL                NaN            323.0               189.0   \n",
              "SIMVASTATIN             272.0            438.0               186.0   \n",
              "METFORMIN                 NaN              NaN                 NaN   \n",
              "FUROSEMIDE              237.0            278.0                 NaN   \n",
              "PLAVIX                  233.0              NaN                 NaN   \n",
              "HYDROCO/APAP              NaN              NaN               198.0   \n",
              "ALBUTEROL                 NaN              NaN                 NaN   \n",
              "SINGULAIR                 NaN              NaN                 NaN   \n",
              "AZITHROMYCIN              NaN              NaN                 NaN   \n",
              "CARVEDILOL                NaN              NaN                 NaN   \n",
              "\n",
              "              asthmaDiagnosed  otherHDDiagnosed  heartFailureDiagnosed  \n",
              "rxName                                                                  \n",
              "LISINOPRIL                NaN             755.0                  149.0  \n",
              "SIMVASTATIN               NaN             766.0                    NaN  \n",
              "METFORMIN                 NaN               NaN                    NaN  \n",
              "FUROSEMIDE                NaN             600.0                  229.0  \n",
              "PLAVIX                    NaN               NaN                    NaN  \n",
              "HYDROCO/APAP              NaN               NaN                    NaN  \n",
              "ALBUTEROL               656.0               NaN                    NaN  \n",
              "SINGULAIR               563.0               NaN                    NaN  \n",
              "AZITHROMYCIN            505.0               NaN                    NaN  \n",
              "CARVEDILOL                NaN               NaN                  133.0  "
            ],
            "text/html": [
              "\n",
              "  <div id=\"df-435563d8-f230-496b-ac3b-ecb53dc624e6\">\n",
              "    <div class=\"colab-df-container\">\n",
              "      <div>\n",
              "<style scoped>\n",
              "    .dataframe tbody tr th:only-of-type {\n",
              "        vertical-align: middle;\n",
              "    }\n",
              "\n",
              "    .dataframe tbody tr th {\n",
              "        vertical-align: top;\n",
              "    }\n",
              "\n",
              "    .dataframe thead th {\n",
              "        text-align: right;\n",
              "    }\n",
              "</style>\n",
              "<table border=\"1\" class=\"dataframe\">\n",
              "  <thead>\n",
              "    <tr style=\"text-align: right;\">\n",
              "      <th></th>\n",
              "      <th>highBPDiagnosed</th>\n",
              "      <th>diabetesDiagnosed</th>\n",
              "      <th>chdDiagnosed</th>\n",
              "      <th>miDiagnosed</th>\n",
              "      <th>anginaDiagnosed</th>\n",
              "      <th>strokeDiagnosed</th>\n",
              "      <th>emphysemaDiagnosed</th>\n",
              "      <th>asthmaDiagnosed</th>\n",
              "      <th>otherHDDiagnosed</th>\n",
              "      <th>heartFailureDiagnosed</th>\n",
              "    </tr>\n",
              "    <tr>\n",
              "      <th>rxName</th>\n",
              "      <th></th>\n",
              "      <th></th>\n",
              "      <th></th>\n",
              "      <th></th>\n",
              "      <th></th>\n",
              "      <th></th>\n",
              "      <th></th>\n",
              "      <th></th>\n",
              "      <th></th>\n",
              "      <th></th>\n",
              "    </tr>\n",
              "  </thead>\n",
              "  <tbody>\n",
              "    <tr>\n",
              "      <th>LISINOPRIL</th>\n",
              "      <td>3091.0</td>\n",
              "      <td>1232.0</td>\n",
              "      <td>561.0</td>\n",
              "      <td>416.0</td>\n",
              "      <td>NaN</td>\n",
              "      <td>323.0</td>\n",
              "      <td>189.0</td>\n",
              "      <td>NaN</td>\n",
              "      <td>755.0</td>\n",
              "      <td>149.0</td>\n",
              "    </tr>\n",
              "    <tr>\n",
              "      <th>SIMVASTATIN</th>\n",
              "      <td>2587.0</td>\n",
              "      <td>1200.0</td>\n",
              "      <td>689.0</td>\n",
              "      <td>475.0</td>\n",
              "      <td>272.0</td>\n",
              "      <td>438.0</td>\n",
              "      <td>186.0</td>\n",
              "      <td>NaN</td>\n",
              "      <td>766.0</td>\n",
              "      <td>NaN</td>\n",
              "    </tr>\n",
              "    <tr>\n",
              "      <th>METFORMIN</th>\n",
              "      <td>1912.0</td>\n",
              "      <td>2274.0</td>\n",
              "      <td>NaN</td>\n",
              "      <td>NaN</td>\n",
              "      <td>NaN</td>\n",
              "      <td>NaN</td>\n",
              "      <td>NaN</td>\n",
              "      <td>NaN</td>\n",
              "      <td>NaN</td>\n",
              "      <td>NaN</td>\n",
              "    </tr>\n",
              "    <tr>\n",
              "      <th>FUROSEMIDE</th>\n",
              "      <td>NaN</td>\n",
              "      <td>NaN</td>\n",
              "      <td>530.0</td>\n",
              "      <td>352.0</td>\n",
              "      <td>237.0</td>\n",
              "      <td>278.0</td>\n",
              "      <td>NaN</td>\n",
              "      <td>NaN</td>\n",
              "      <td>600.0</td>\n",
              "      <td>229.0</td>\n",
              "    </tr>\n",
              "    <tr>\n",
              "      <th>PLAVIX</th>\n",
              "      <td>NaN</td>\n",
              "      <td>NaN</td>\n",
              "      <td>NaN</td>\n",
              "      <td>NaN</td>\n",
              "      <td>233.0</td>\n",
              "      <td>NaN</td>\n",
              "      <td>NaN</td>\n",
              "      <td>NaN</td>\n",
              "      <td>NaN</td>\n",
              "      <td>NaN</td>\n",
              "    </tr>\n",
              "    <tr>\n",
              "      <th>HYDROCO/APAP</th>\n",
              "      <td>NaN</td>\n",
              "      <td>NaN</td>\n",
              "      <td>NaN</td>\n",
              "      <td>NaN</td>\n",
              "      <td>NaN</td>\n",
              "      <td>NaN</td>\n",
              "      <td>198.0</td>\n",
              "      <td>NaN</td>\n",
              "      <td>NaN</td>\n",
              "      <td>NaN</td>\n",
              "    </tr>\n",
              "    <tr>\n",
              "      <th>ALBUTEROL</th>\n",
              "      <td>NaN</td>\n",
              "      <td>NaN</td>\n",
              "      <td>NaN</td>\n",
              "      <td>NaN</td>\n",
              "      <td>NaN</td>\n",
              "      <td>NaN</td>\n",
              "      <td>NaN</td>\n",
              "      <td>656.0</td>\n",
              "      <td>NaN</td>\n",
              "      <td>NaN</td>\n",
              "    </tr>\n",
              "    <tr>\n",
              "      <th>SINGULAIR</th>\n",
              "      <td>NaN</td>\n",
              "      <td>NaN</td>\n",
              "      <td>NaN</td>\n",
              "      <td>NaN</td>\n",
              "      <td>NaN</td>\n",
              "      <td>NaN</td>\n",
              "      <td>NaN</td>\n",
              "      <td>563.0</td>\n",
              "      <td>NaN</td>\n",
              "      <td>NaN</td>\n",
              "    </tr>\n",
              "    <tr>\n",
              "      <th>AZITHROMYCIN</th>\n",
              "      <td>NaN</td>\n",
              "      <td>NaN</td>\n",
              "      <td>NaN</td>\n",
              "      <td>NaN</td>\n",
              "      <td>NaN</td>\n",
              "      <td>NaN</td>\n",
              "      <td>NaN</td>\n",
              "      <td>505.0</td>\n",
              "      <td>NaN</td>\n",
              "      <td>NaN</td>\n",
              "    </tr>\n",
              "    <tr>\n",
              "      <th>CARVEDILOL</th>\n",
              "      <td>NaN</td>\n",
              "      <td>NaN</td>\n",
              "      <td>NaN</td>\n",
              "      <td>NaN</td>\n",
              "      <td>NaN</td>\n",
              "      <td>NaN</td>\n",
              "      <td>NaN</td>\n",
              "      <td>NaN</td>\n",
              "      <td>NaN</td>\n",
              "      <td>133.0</td>\n",
              "    </tr>\n",
              "  </tbody>\n",
              "</table>\n",
              "</div>\n",
              "      <button class=\"colab-df-convert\" onclick=\"convertToInteractive('df-435563d8-f230-496b-ac3b-ecb53dc624e6')\"\n",
              "              title=\"Convert this dataframe to an interactive table.\"\n",
              "              style=\"display:none;\">\n",
              "        \n",
              "  <svg xmlns=\"http://www.w3.org/2000/svg\" height=\"24px\"viewBox=\"0 0 24 24\"\n",
              "       width=\"24px\">\n",
              "    <path d=\"M0 0h24v24H0V0z\" fill=\"none\"/>\n",
              "    <path d=\"M18.56 5.44l.94 2.06.94-2.06 2.06-.94-2.06-.94-.94-2.06-.94 2.06-2.06.94zm-11 1L8.5 8.5l.94-2.06 2.06-.94-2.06-.94L8.5 2.5l-.94 2.06-2.06.94zm10 10l.94 2.06.94-2.06 2.06-.94-2.06-.94-.94-2.06-.94 2.06-2.06.94z\"/><path d=\"M17.41 7.96l-1.37-1.37c-.4-.4-.92-.59-1.43-.59-.52 0-1.04.2-1.43.59L10.3 9.45l-7.72 7.72c-.78.78-.78 2.05 0 2.83L4 21.41c.39.39.9.59 1.41.59.51 0 1.02-.2 1.41-.59l7.78-7.78 2.81-2.81c.8-.78.8-2.07 0-2.86zM5.41 20L4 18.59l7.72-7.72 1.47 1.35L5.41 20z\"/>\n",
              "  </svg>\n",
              "      </button>\n",
              "      \n",
              "  <style>\n",
              "    .colab-df-container {\n",
              "      display:flex;\n",
              "      flex-wrap:wrap;\n",
              "      gap: 12px;\n",
              "    }\n",
              "\n",
              "    .colab-df-convert {\n",
              "      background-color: #E8F0FE;\n",
              "      border: none;\n",
              "      border-radius: 50%;\n",
              "      cursor: pointer;\n",
              "      display: none;\n",
              "      fill: #1967D2;\n",
              "      height: 32px;\n",
              "      padding: 0 0 0 0;\n",
              "      width: 32px;\n",
              "    }\n",
              "\n",
              "    .colab-df-convert:hover {\n",
              "      background-color: #E2EBFA;\n",
              "      box-shadow: 0px 1px 2px rgba(60, 64, 67, 0.3), 0px 1px 3px 1px rgba(60, 64, 67, 0.15);\n",
              "      fill: #174EA6;\n",
              "    }\n",
              "\n",
              "    [theme=dark] .colab-df-convert {\n",
              "      background-color: #3B4455;\n",
              "      fill: #D2E3FC;\n",
              "    }\n",
              "\n",
              "    [theme=dark] .colab-df-convert:hover {\n",
              "      background-color: #434B5C;\n",
              "      box-shadow: 0px 1px 3px 1px rgba(0, 0, 0, 0.15);\n",
              "      filter: drop-shadow(0px 1px 2px rgba(0, 0, 0, 0.3));\n",
              "      fill: #FFFFFF;\n",
              "    }\n",
              "  </style>\n",
              "\n",
              "      <script>\n",
              "        const buttonEl =\n",
              "          document.querySelector('#df-435563d8-f230-496b-ac3b-ecb53dc624e6 button.colab-df-convert');\n",
              "        buttonEl.style.display =\n",
              "          google.colab.kernel.accessAllowed ? 'block' : 'none';\n",
              "\n",
              "        async function convertToInteractive(key) {\n",
              "          const element = document.querySelector('#df-435563d8-f230-496b-ac3b-ecb53dc624e6');\n",
              "          const dataTable =\n",
              "            await google.colab.kernel.invokeFunction('convertToInteractive',\n",
              "                                                     [key], {});\n",
              "          if (!dataTable) return;\n",
              "\n",
              "          const docLinkHtml = 'Like what you see? Visit the ' +\n",
              "            '<a target=\"_blank\" href=https://colab.research.google.com/notebooks/data_table.ipynb>data table notebook</a>'\n",
              "            + ' to learn more about interactive tables.';\n",
              "          element.innerHTML = '';\n",
              "          dataTable['output_type'] = 'display_data';\n",
              "          await google.colab.output.renderOutput(dataTable, element);\n",
              "          const docLink = document.createElement('div');\n",
              "          docLink.innerHTML = docLinkHtml;\n",
              "          element.appendChild(docLink);\n",
              "        }\n",
              "      </script>\n",
              "    </div>\n",
              "  </div>\n",
              "  "
            ]
          },
          "metadata": {},
          "execution_count": 25
        }
      ]
    },
    {
      "cell_type": "code",
      "source": [
        "#Lets calculate the percentage of each medicine to all diagnosed patients for each type of condition\n",
        "lst=[]\n",
        "for i in dis:\n",
        "  temp_series = dis_medicine[i]/df_join[df_join[i]=='Yes'][i].count()\n",
        "  lst.append(temp_series)\n",
        "\n",
        "dis_medicine_perc= pd.concat(lst, axis=1)\n",
        "\n",
        "dis_medicine_perc"
      ],
      "metadata": {
        "colab": {
          "base_uri": "https://localhost:8080/",
          "height": 458
        },
        "id": "oEzCuGAgJQmj",
        "outputId": "7727e7a7-3fad-4f3a-8407-4fd97cb57a35"
      },
      "execution_count": 26,
      "outputs": [
        {
          "output_type": "execute_result",
          "data": {
            "text/plain": [
              "              highBPDiagnosed  diabetesDiagnosed  chdDiagnosed  miDiagnosed  \\\n",
              "rxName                                                                        \n",
              "LISINOPRIL           0.041644           0.036305      0.031485     0.034287   \n",
              "SIMVASTATIN          0.034854           0.035362      0.038669     0.039149   \n",
              "METFORMIN            0.025760           0.067010           NaN          NaN   \n",
              "FUROSEMIDE                NaN                NaN      0.029745     0.029012   \n",
              "PLAVIX                    NaN                NaN           NaN          NaN   \n",
              "HYDROCO/APAP              NaN                NaN           NaN          NaN   \n",
              "ALBUTEROL                 NaN                NaN           NaN          NaN   \n",
              "SINGULAIR                 NaN                NaN           NaN          NaN   \n",
              "AZITHROMYCIN              NaN                NaN           NaN          NaN   \n",
              "CARVEDILOL                NaN                NaN           NaN          NaN   \n",
              "\n",
              "              anginaDiagnosed  strokeDiagnosed  emphysemaDiagnosed  \\\n",
              "rxName                                                               \n",
              "LISINOPRIL                NaN         0.026991            0.024197   \n",
              "SIMVASTATIN          0.028908         0.036601            0.023813   \n",
              "METFORMIN                 NaN              NaN                 NaN   \n",
              "FUROSEMIDE           0.025189         0.023231                 NaN   \n",
              "PLAVIX               0.024764              NaN                 NaN   \n",
              "HYDROCO/APAP              NaN              NaN            0.025349   \n",
              "ALBUTEROL                 NaN              NaN                 NaN   \n",
              "SINGULAIR                 NaN              NaN                 NaN   \n",
              "AZITHROMYCIN              NaN              NaN                 NaN   \n",
              "CARVEDILOL                NaN              NaN                 NaN   \n",
              "\n",
              "              asthmaDiagnosed  otherHDDiagnosed  heartFailureDiagnosed  \n",
              "rxName                                                                  \n",
              "LISINOPRIL                NaN          0.030316               0.036051  \n",
              "SIMVASTATIN               NaN          0.030758                    NaN  \n",
              "METFORMIN                 NaN               NaN                    NaN  \n",
              "FUROSEMIDE                NaN          0.024093               0.055408  \n",
              "PLAVIX                    NaN               NaN                    NaN  \n",
              "HYDROCO/APAP              NaN               NaN                    NaN  \n",
              "ALBUTEROL            0.027577               NaN                    NaN  \n",
              "SINGULAIR            0.023667               NaN                    NaN  \n",
              "AZITHROMYCIN         0.021229               NaN                    NaN  \n",
              "CARVEDILOL                NaN               NaN               0.032180  "
            ],
            "text/html": [
              "\n",
              "  <div id=\"df-62032338-fbd8-4349-82cd-fcf202c014c5\">\n",
              "    <div class=\"colab-df-container\">\n",
              "      <div>\n",
              "<style scoped>\n",
              "    .dataframe tbody tr th:only-of-type {\n",
              "        vertical-align: middle;\n",
              "    }\n",
              "\n",
              "    .dataframe tbody tr th {\n",
              "        vertical-align: top;\n",
              "    }\n",
              "\n",
              "    .dataframe thead th {\n",
              "        text-align: right;\n",
              "    }\n",
              "</style>\n",
              "<table border=\"1\" class=\"dataframe\">\n",
              "  <thead>\n",
              "    <tr style=\"text-align: right;\">\n",
              "      <th></th>\n",
              "      <th>highBPDiagnosed</th>\n",
              "      <th>diabetesDiagnosed</th>\n",
              "      <th>chdDiagnosed</th>\n",
              "      <th>miDiagnosed</th>\n",
              "      <th>anginaDiagnosed</th>\n",
              "      <th>strokeDiagnosed</th>\n",
              "      <th>emphysemaDiagnosed</th>\n",
              "      <th>asthmaDiagnosed</th>\n",
              "      <th>otherHDDiagnosed</th>\n",
              "      <th>heartFailureDiagnosed</th>\n",
              "    </tr>\n",
              "    <tr>\n",
              "      <th>rxName</th>\n",
              "      <th></th>\n",
              "      <th></th>\n",
              "      <th></th>\n",
              "      <th></th>\n",
              "      <th></th>\n",
              "      <th></th>\n",
              "      <th></th>\n",
              "      <th></th>\n",
              "      <th></th>\n",
              "      <th></th>\n",
              "    </tr>\n",
              "  </thead>\n",
              "  <tbody>\n",
              "    <tr>\n",
              "      <th>LISINOPRIL</th>\n",
              "      <td>0.041644</td>\n",
              "      <td>0.036305</td>\n",
              "      <td>0.031485</td>\n",
              "      <td>0.034287</td>\n",
              "      <td>NaN</td>\n",
              "      <td>0.026991</td>\n",
              "      <td>0.024197</td>\n",
              "      <td>NaN</td>\n",
              "      <td>0.030316</td>\n",
              "      <td>0.036051</td>\n",
              "    </tr>\n",
              "    <tr>\n",
              "      <th>SIMVASTATIN</th>\n",
              "      <td>0.034854</td>\n",
              "      <td>0.035362</td>\n",
              "      <td>0.038669</td>\n",
              "      <td>0.039149</td>\n",
              "      <td>0.028908</td>\n",
              "      <td>0.036601</td>\n",
              "      <td>0.023813</td>\n",
              "      <td>NaN</td>\n",
              "      <td>0.030758</td>\n",
              "      <td>NaN</td>\n",
              "    </tr>\n",
              "    <tr>\n",
              "      <th>METFORMIN</th>\n",
              "      <td>0.025760</td>\n",
              "      <td>0.067010</td>\n",
              "      <td>NaN</td>\n",
              "      <td>NaN</td>\n",
              "      <td>NaN</td>\n",
              "      <td>NaN</td>\n",
              "      <td>NaN</td>\n",
              "      <td>NaN</td>\n",
              "      <td>NaN</td>\n",
              "      <td>NaN</td>\n",
              "    </tr>\n",
              "    <tr>\n",
              "      <th>FUROSEMIDE</th>\n",
              "      <td>NaN</td>\n",
              "      <td>NaN</td>\n",
              "      <td>0.029745</td>\n",
              "      <td>0.029012</td>\n",
              "      <td>0.025189</td>\n",
              "      <td>0.023231</td>\n",
              "      <td>NaN</td>\n",
              "      <td>NaN</td>\n",
              "      <td>0.024093</td>\n",
              "      <td>0.055408</td>\n",
              "    </tr>\n",
              "    <tr>\n",
              "      <th>PLAVIX</th>\n",
              "      <td>NaN</td>\n",
              "      <td>NaN</td>\n",
              "      <td>NaN</td>\n",
              "      <td>NaN</td>\n",
              "      <td>0.024764</td>\n",
              "      <td>NaN</td>\n",
              "      <td>NaN</td>\n",
              "      <td>NaN</td>\n",
              "      <td>NaN</td>\n",
              "      <td>NaN</td>\n",
              "    </tr>\n",
              "    <tr>\n",
              "      <th>HYDROCO/APAP</th>\n",
              "      <td>NaN</td>\n",
              "      <td>NaN</td>\n",
              "      <td>NaN</td>\n",
              "      <td>NaN</td>\n",
              "      <td>NaN</td>\n",
              "      <td>NaN</td>\n",
              "      <td>0.025349</td>\n",
              "      <td>NaN</td>\n",
              "      <td>NaN</td>\n",
              "      <td>NaN</td>\n",
              "    </tr>\n",
              "    <tr>\n",
              "      <th>ALBUTEROL</th>\n",
              "      <td>NaN</td>\n",
              "      <td>NaN</td>\n",
              "      <td>NaN</td>\n",
              "      <td>NaN</td>\n",
              "      <td>NaN</td>\n",
              "      <td>NaN</td>\n",
              "      <td>NaN</td>\n",
              "      <td>0.027577</td>\n",
              "      <td>NaN</td>\n",
              "      <td>NaN</td>\n",
              "    </tr>\n",
              "    <tr>\n",
              "      <th>SINGULAIR</th>\n",
              "      <td>NaN</td>\n",
              "      <td>NaN</td>\n",
              "      <td>NaN</td>\n",
              "      <td>NaN</td>\n",
              "      <td>NaN</td>\n",
              "      <td>NaN</td>\n",
              "      <td>NaN</td>\n",
              "      <td>0.023667</td>\n",
              "      <td>NaN</td>\n",
              "      <td>NaN</td>\n",
              "    </tr>\n",
              "    <tr>\n",
              "      <th>AZITHROMYCIN</th>\n",
              "      <td>NaN</td>\n",
              "      <td>NaN</td>\n",
              "      <td>NaN</td>\n",
              "      <td>NaN</td>\n",
              "      <td>NaN</td>\n",
              "      <td>NaN</td>\n",
              "      <td>NaN</td>\n",
              "      <td>0.021229</td>\n",
              "      <td>NaN</td>\n",
              "      <td>NaN</td>\n",
              "    </tr>\n",
              "    <tr>\n",
              "      <th>CARVEDILOL</th>\n",
              "      <td>NaN</td>\n",
              "      <td>NaN</td>\n",
              "      <td>NaN</td>\n",
              "      <td>NaN</td>\n",
              "      <td>NaN</td>\n",
              "      <td>NaN</td>\n",
              "      <td>NaN</td>\n",
              "      <td>NaN</td>\n",
              "      <td>NaN</td>\n",
              "      <td>0.032180</td>\n",
              "    </tr>\n",
              "  </tbody>\n",
              "</table>\n",
              "</div>\n",
              "      <button class=\"colab-df-convert\" onclick=\"convertToInteractive('df-62032338-fbd8-4349-82cd-fcf202c014c5')\"\n",
              "              title=\"Convert this dataframe to an interactive table.\"\n",
              "              style=\"display:none;\">\n",
              "        \n",
              "  <svg xmlns=\"http://www.w3.org/2000/svg\" height=\"24px\"viewBox=\"0 0 24 24\"\n",
              "       width=\"24px\">\n",
              "    <path d=\"M0 0h24v24H0V0z\" fill=\"none\"/>\n",
              "    <path d=\"M18.56 5.44l.94 2.06.94-2.06 2.06-.94-2.06-.94-.94-2.06-.94 2.06-2.06.94zm-11 1L8.5 8.5l.94-2.06 2.06-.94-2.06-.94L8.5 2.5l-.94 2.06-2.06.94zm10 10l.94 2.06.94-2.06 2.06-.94-2.06-.94-.94-2.06-.94 2.06-2.06.94z\"/><path d=\"M17.41 7.96l-1.37-1.37c-.4-.4-.92-.59-1.43-.59-.52 0-1.04.2-1.43.59L10.3 9.45l-7.72 7.72c-.78.78-.78 2.05 0 2.83L4 21.41c.39.39.9.59 1.41.59.51 0 1.02-.2 1.41-.59l7.78-7.78 2.81-2.81c.8-.78.8-2.07 0-2.86zM5.41 20L4 18.59l7.72-7.72 1.47 1.35L5.41 20z\"/>\n",
              "  </svg>\n",
              "      </button>\n",
              "      \n",
              "  <style>\n",
              "    .colab-df-container {\n",
              "      display:flex;\n",
              "      flex-wrap:wrap;\n",
              "      gap: 12px;\n",
              "    }\n",
              "\n",
              "    .colab-df-convert {\n",
              "      background-color: #E8F0FE;\n",
              "      border: none;\n",
              "      border-radius: 50%;\n",
              "      cursor: pointer;\n",
              "      display: none;\n",
              "      fill: #1967D2;\n",
              "      height: 32px;\n",
              "      padding: 0 0 0 0;\n",
              "      width: 32px;\n",
              "    }\n",
              "\n",
              "    .colab-df-convert:hover {\n",
              "      background-color: #E2EBFA;\n",
              "      box-shadow: 0px 1px 2px rgba(60, 64, 67, 0.3), 0px 1px 3px 1px rgba(60, 64, 67, 0.15);\n",
              "      fill: #174EA6;\n",
              "    }\n",
              "\n",
              "    [theme=dark] .colab-df-convert {\n",
              "      background-color: #3B4455;\n",
              "      fill: #D2E3FC;\n",
              "    }\n",
              "\n",
              "    [theme=dark] .colab-df-convert:hover {\n",
              "      background-color: #434B5C;\n",
              "      box-shadow: 0px 1px 3px 1px rgba(0, 0, 0, 0.15);\n",
              "      filter: drop-shadow(0px 1px 2px rgba(0, 0, 0, 0.3));\n",
              "      fill: #FFFFFF;\n",
              "    }\n",
              "  </style>\n",
              "\n",
              "      <script>\n",
              "        const buttonEl =\n",
              "          document.querySelector('#df-62032338-fbd8-4349-82cd-fcf202c014c5 button.colab-df-convert');\n",
              "        buttonEl.style.display =\n",
              "          google.colab.kernel.accessAllowed ? 'block' : 'none';\n",
              "\n",
              "        async function convertToInteractive(key) {\n",
              "          const element = document.querySelector('#df-62032338-fbd8-4349-82cd-fcf202c014c5');\n",
              "          const dataTable =\n",
              "            await google.colab.kernel.invokeFunction('convertToInteractive',\n",
              "                                                     [key], {});\n",
              "          if (!dataTable) return;\n",
              "\n",
              "          const docLinkHtml = 'Like what you see? Visit the ' +\n",
              "            '<a target=\"_blank\" href=https://colab.research.google.com/notebooks/data_table.ipynb>data table notebook</a>'\n",
              "            + ' to learn more about interactive tables.';\n",
              "          element.innerHTML = '';\n",
              "          dataTable['output_type'] = 'display_data';\n",
              "          await google.colab.output.renderOutput(dataTable, element);\n",
              "          const docLink = document.createElement('div');\n",
              "          docLink.innerHTML = docLinkHtml;\n",
              "          element.appendChild(docLink);\n",
              "        }\n",
              "      </script>\n",
              "    </div>\n",
              "  </div>\n",
              "  "
            ]
          },
          "metadata": {},
          "execution_count": 26
        }
      ]
    },
    {
      "cell_type": "markdown",
      "source": [
        "Lets create a function for the above, and include years to be filtered on and top medicines by count"
      ],
      "metadata": {
        "id": "Zpjm_x3muFno"
      }
    },
    {
      "cell_type": "code",
      "source": [
        "def medicine_pop(df,year,top_n):\n",
        "  lst=[]\n",
        "  for i in dis:\n",
        "    temp_series = df[(df[i]=='Yes')& (df['rxStartYear']>=year)].groupby('rxName').count()[i].sort_values(ascending=False).head(top_n)\n",
        "    lst.append(temp_series)\n",
        "  dis_medicine= pd.concat(lst, axis=1)\n",
        "#dis_medicine\n",
        "  for i in dis:\n",
        "    temp_series = dis_medicine[i]/df_join[(df_join[i]=='Yes')&(df['rxStartYear']>=year)][i].count()\n",
        "    lst.append(temp_series)\n",
        "\n",
        "  dis_medicine_perc= pd.concat(lst, axis=1)\n",
        "\n",
        "  return dis_medicine, dis_medicine_perc"
      ],
      "metadata": {
        "id": "Ta55AXO-on65"
      },
      "execution_count": 27,
      "outputs": []
    },
    {
      "cell_type": "markdown",
      "source": [
        "# Below is the answer to the first question, what the most common medicine for each disease? I counted the top three medicines for each disease by absolute and percentage values, where some medicines may have been assigned more than one time and it's still counted towards the common occurence."
      ],
      "metadata": {
        "id": "vlo3qbVhwsCM"
      }
    },
    {
      "cell_type": "code",
      "source": [
        "medicine_pop(df_join,df_join['rxStartYear'].min(), 3)"
      ],
      "metadata": {
        "colab": {
          "base_uri": "https://localhost:8080/"
        },
        "id": "ghzmj_vOtcUr",
        "outputId": "440e378d-a651-4289-8775-91b5c9a6abb6"
      },
      "execution_count": 28,
      "outputs": [
        {
          "output_type": "execute_result",
          "data": {
            "text/plain": [
              "(              highBPDiagnosed  diabetesDiagnosed  chdDiagnosed  miDiagnosed  \\\n",
              " rxName                                                                        \n",
              " LISINOPRIL             3091.0             1232.0         561.0        416.0   \n",
              " SIMVASTATIN            2587.0             1200.0         689.0        475.0   \n",
              " METFORMIN              1912.0             2274.0           NaN          NaN   \n",
              " FUROSEMIDE                NaN                NaN         530.0        352.0   \n",
              " PLAVIX                    NaN                NaN           NaN          NaN   \n",
              " HYDROCO/APAP              NaN                NaN           NaN          NaN   \n",
              " ALBUTEROL                 NaN                NaN           NaN          NaN   \n",
              " SINGULAIR                 NaN                NaN           NaN          NaN   \n",
              " AZITHROMYCIN              NaN                NaN           NaN          NaN   \n",
              " CARVEDILOL                NaN                NaN           NaN          NaN   \n",
              " \n",
              "               anginaDiagnosed  strokeDiagnosed  emphysemaDiagnosed  \\\n",
              " rxName                                                               \n",
              " LISINOPRIL                NaN            323.0               189.0   \n",
              " SIMVASTATIN             272.0            438.0               186.0   \n",
              " METFORMIN                 NaN              NaN                 NaN   \n",
              " FUROSEMIDE              237.0            278.0                 NaN   \n",
              " PLAVIX                  233.0              NaN                 NaN   \n",
              " HYDROCO/APAP              NaN              NaN               198.0   \n",
              " ALBUTEROL                 NaN              NaN                 NaN   \n",
              " SINGULAIR                 NaN              NaN                 NaN   \n",
              " AZITHROMYCIN              NaN              NaN                 NaN   \n",
              " CARVEDILOL                NaN              NaN                 NaN   \n",
              " \n",
              "               asthmaDiagnosed  otherHDDiagnosed  heartFailureDiagnosed  \n",
              " rxName                                                                  \n",
              " LISINOPRIL                NaN             755.0                  149.0  \n",
              " SIMVASTATIN               NaN             766.0                    NaN  \n",
              " METFORMIN                 NaN               NaN                    NaN  \n",
              " FUROSEMIDE                NaN             600.0                  229.0  \n",
              " PLAVIX                    NaN               NaN                    NaN  \n",
              " HYDROCO/APAP              NaN               NaN                    NaN  \n",
              " ALBUTEROL               656.0               NaN                    NaN  \n",
              " SINGULAIR               563.0               NaN                    NaN  \n",
              " AZITHROMYCIN            505.0               NaN                    NaN  \n",
              " CARVEDILOL                NaN               NaN                  133.0  ,\n",
              "               highBPDiagnosed  diabetesDiagnosed  chdDiagnosed  miDiagnosed  \\\n",
              " rxName                                                                        \n",
              " LISINOPRIL             3091.0             1232.0         561.0        416.0   \n",
              " SIMVASTATIN            2587.0             1200.0         689.0        475.0   \n",
              " METFORMIN              1912.0             2274.0           NaN          NaN   \n",
              " FUROSEMIDE                NaN                NaN         530.0        352.0   \n",
              " PLAVIX                    NaN                NaN           NaN          NaN   \n",
              " HYDROCO/APAP              NaN                NaN           NaN          NaN   \n",
              " ALBUTEROL                 NaN                NaN           NaN          NaN   \n",
              " SINGULAIR                 NaN                NaN           NaN          NaN   \n",
              " AZITHROMYCIN              NaN                NaN           NaN          NaN   \n",
              " CARVEDILOL                NaN                NaN           NaN          NaN   \n",
              " \n",
              "               anginaDiagnosed  strokeDiagnosed  emphysemaDiagnosed  \\\n",
              " rxName                                                               \n",
              " LISINOPRIL                NaN            323.0               189.0   \n",
              " SIMVASTATIN             272.0            438.0               186.0   \n",
              " METFORMIN                 NaN              NaN                 NaN   \n",
              " FUROSEMIDE              237.0            278.0                 NaN   \n",
              " PLAVIX                  233.0              NaN                 NaN   \n",
              " HYDROCO/APAP              NaN              NaN               198.0   \n",
              " ALBUTEROL                 NaN              NaN                 NaN   \n",
              " SINGULAIR                 NaN              NaN                 NaN   \n",
              " AZITHROMYCIN              NaN              NaN                 NaN   \n",
              " CARVEDILOL                NaN              NaN                 NaN   \n",
              " \n",
              "               asthmaDiagnosed  otherHDDiagnosed  heartFailureDiagnosed  \\\n",
              " rxName                                                                   \n",
              " LISINOPRIL                NaN             755.0                  149.0   \n",
              " SIMVASTATIN               NaN             766.0                    NaN   \n",
              " METFORMIN                 NaN               NaN                    NaN   \n",
              " FUROSEMIDE                NaN             600.0                  229.0   \n",
              " PLAVIX                    NaN               NaN                    NaN   \n",
              " HYDROCO/APAP              NaN               NaN                    NaN   \n",
              " ALBUTEROL               656.0               NaN                    NaN   \n",
              " SINGULAIR               563.0               NaN                    NaN   \n",
              " AZITHROMYCIN            505.0               NaN                    NaN   \n",
              " CARVEDILOL                NaN               NaN                  133.0   \n",
              " \n",
              "               highBPDiagnosed  diabetesDiagnosed  chdDiagnosed  miDiagnosed  \\\n",
              " rxName                                                                        \n",
              " LISINOPRIL           0.041644           0.036305      0.031485     0.034287   \n",
              " SIMVASTATIN          0.034854           0.035362      0.038669     0.039149   \n",
              " METFORMIN            0.025760           0.067010           NaN          NaN   \n",
              " FUROSEMIDE                NaN                NaN      0.029745     0.029012   \n",
              " PLAVIX                    NaN                NaN           NaN          NaN   \n",
              " HYDROCO/APAP              NaN                NaN           NaN          NaN   \n",
              " ALBUTEROL                 NaN                NaN           NaN          NaN   \n",
              " SINGULAIR                 NaN                NaN           NaN          NaN   \n",
              " AZITHROMYCIN              NaN                NaN           NaN          NaN   \n",
              " CARVEDILOL                NaN                NaN           NaN          NaN   \n",
              " \n",
              "               anginaDiagnosed  strokeDiagnosed  emphysemaDiagnosed  \\\n",
              " rxName                                                               \n",
              " LISINOPRIL                NaN         0.026991            0.024197   \n",
              " SIMVASTATIN          0.028908         0.036601            0.023813   \n",
              " METFORMIN                 NaN              NaN                 NaN   \n",
              " FUROSEMIDE           0.025189         0.023231                 NaN   \n",
              " PLAVIX               0.024764              NaN                 NaN   \n",
              " HYDROCO/APAP              NaN              NaN            0.025349   \n",
              " ALBUTEROL                 NaN              NaN                 NaN   \n",
              " SINGULAIR                 NaN              NaN                 NaN   \n",
              " AZITHROMYCIN              NaN              NaN                 NaN   \n",
              " CARVEDILOL                NaN              NaN                 NaN   \n",
              " \n",
              "               asthmaDiagnosed  otherHDDiagnosed  heartFailureDiagnosed  \n",
              " rxName                                                                  \n",
              " LISINOPRIL                NaN          0.030316               0.036051  \n",
              " SIMVASTATIN               NaN          0.030758                    NaN  \n",
              " METFORMIN                 NaN               NaN                    NaN  \n",
              " FUROSEMIDE                NaN          0.024093               0.055408  \n",
              " PLAVIX                    NaN               NaN                    NaN  \n",
              " HYDROCO/APAP              NaN               NaN                    NaN  \n",
              " ALBUTEROL            0.027577               NaN                    NaN  \n",
              " SINGULAIR            0.023667               NaN                    NaN  \n",
              " AZITHROMYCIN         0.021229               NaN                    NaN  \n",
              " CARVEDILOL                NaN               NaN               0.032180  )"
            ]
          },
          "metadata": {},
          "execution_count": 28
        }
      ]
    },
    {
      "cell_type": "markdown",
      "source": [
        "Let's test the results by reconciling percentage results from same df using different methods"
      ],
      "metadata": {
        "id": "UKw08urBwVw4"
      }
    },
    {
      "cell_type": "code",
      "source": [
        "\n",
        "medicine_pop(df_join,df_join['rxStartYear'].min(), 3)[1].loc['METFORMIN','diabetesDiagnosed' ].iloc[1]==\\\n",
        "df_join[(df_join['diabetesDiagnosed']=='Yes')&(df_join['rxName']=='METFORMIN')].count()['id']/\\\n",
        "df_join[df_join['diabetesDiagnosed']=='Yes'].count()['id']"
      ],
      "metadata": {
        "colab": {
          "base_uri": "https://localhost:8080/"
        },
        "id": "4869hHISVV2Z",
        "outputId": "d6da3dd7-fd7c-44bb-9d63-cd611e15eac8"
      },
      "execution_count": 29,
      "outputs": [
        {
          "output_type": "execute_result",
          "data": {
            "text/plain": [
              "True"
            ]
          },
          "metadata": {},
          "execution_count": 29
        }
      ]
    },
    {
      "cell_type": "markdown",
      "source": [
        "As we can see from above, in case of diabetes, Metformin is prescribed to 3.6% of all patients who were diagnosed with Diabetes. Below we can see that 4186 types of medicines are prescribed to diabetes patients"
      ],
      "metadata": {
        "id": "KN7q7OsmW5_G"
      }
    },
    {
      "cell_type": "code",
      "source": [
        "df_join[df_join['diabetesDiagnosed']=='Yes'].groupby('rxName').size().sort_values(ascending=False)"
      ],
      "metadata": {
        "colab": {
          "base_uri": "https://localhost:8080/"
        },
        "id": "RitsXyAPa5lv",
        "outputId": "e4ac78ed-3a6d-47d4-a2d1-e765a016f798"
      },
      "execution_count": 30,
      "outputs": [
        {
          "output_type": "execute_result",
          "data": {
            "text/plain": [
              "rxName\n",
              "METFORMIN                 2274\n",
              "LISINOPRIL                1232\n",
              "SIMVASTATIN               1200\n",
              "FUROSEMIDE                 601\n",
              "INSULIN SYRG               577\n",
              "                          ... \n",
              "ESOMEPRAZOLE MAGNESIUM       1\n",
              "PAXIL CR                     1\n",
              "PED ELCTRLYT FRUIT           1\n",
              "ERYTHROMYCIN OP              1\n",
              "ZZFEXOFENADINE               1\n",
              "Length: 1977, dtype: int64"
            ]
          },
          "metadata": {},
          "execution_count": 30
        }
      ]
    },
    {
      "cell_type": "markdown",
      "source": [
        "Lets calculate values for 2001 year, thus taking the last 10 years since 2011, as older data is scarce with the majority of dates being negative. In this case, Metforming was prescribed to 4.5% of all diagnosed by diabetes. "
      ],
      "metadata": {
        "id": "VTcGUROYxiBX"
      }
    },
    {
      "cell_type": "code",
      "source": [
        "medicine_pop(df_join,2001, 3)"
      ],
      "metadata": {
        "colab": {
          "base_uri": "https://localhost:8080/"
        },
        "id": "dJL0wCJ2xYtS",
        "outputId": "237b73c3-d1c3-4f35-e598-7eddfa0d98b4"
      },
      "execution_count": 31,
      "outputs": [
        {
          "output_type": "execute_result",
          "data": {
            "text/plain": [
              "(              highBPDiagnosed  diabetesDiagnosed  chdDiagnosed  miDiagnosed  \\\n",
              " rxName                                                                        \n",
              " LISINOPRIL             2126.0              838.0         356.0        287.0   \n",
              " SIMVASTATIN            1700.0              738.0         433.0        299.0   \n",
              " METFORMIN              1303.0             1524.0           NaN          NaN   \n",
              " PLAVIX                    NaN                NaN         314.0        222.0   \n",
              " HYDROCO/APAP              NaN                NaN           NaN          NaN   \n",
              " SINGULAIR                 NaN                NaN           NaN          NaN   \n",
              " AZITHROMYCIN              NaN                NaN           NaN          NaN   \n",
              " FUROSEMIDE                NaN                NaN           NaN          NaN   \n",
              " CARVEDILOL                NaN                NaN           NaN          NaN   \n",
              " \n",
              "               anginaDiagnosed  strokeDiagnosed  emphysemaDiagnosed  \\\n",
              " rxName                                                               \n",
              " LISINOPRIL              147.0            194.0               134.0   \n",
              " SIMVASTATIN             163.0            263.0               120.0   \n",
              " METFORMIN                 NaN              NaN                 NaN   \n",
              " PLAVIX                  167.0              NaN                 NaN   \n",
              " HYDROCO/APAP              NaN            165.0               155.0   \n",
              " SINGULAIR                 NaN              NaN                 NaN   \n",
              " AZITHROMYCIN              NaN              NaN                 NaN   \n",
              " FUROSEMIDE                NaN              NaN                 NaN   \n",
              " CARVEDILOL                NaN              NaN                 NaN   \n",
              " \n",
              "               asthmaDiagnosed  otherHDDiagnosed  heartFailureDiagnosed  \n",
              " rxName                                                                  \n",
              " LISINOPRIL                NaN             470.0                   86.0  \n",
              " SIMVASTATIN               NaN             472.0                    NaN  \n",
              " METFORMIN                 NaN               NaN                    NaN  \n",
              " PLAVIX                    NaN               NaN                    NaN  \n",
              " HYDROCO/APAP            406.0               NaN                    NaN  \n",
              " SINGULAIR               410.0               NaN                    NaN  \n",
              " AZITHROMYCIN            408.0               NaN                    NaN  \n",
              " FUROSEMIDE                NaN             345.0                  125.0  \n",
              " CARVEDILOL                NaN               NaN                  107.0  ,\n",
              "               highBPDiagnosed  diabetesDiagnosed  chdDiagnosed  miDiagnosed  \\\n",
              " rxName                                                                        \n",
              " LISINOPRIL             2126.0              838.0         356.0        287.0   \n",
              " SIMVASTATIN            1700.0              738.0         433.0        299.0   \n",
              " METFORMIN              1303.0             1524.0           NaN          NaN   \n",
              " PLAVIX                    NaN                NaN         314.0        222.0   \n",
              " HYDROCO/APAP              NaN                NaN           NaN          NaN   \n",
              " SINGULAIR                 NaN                NaN           NaN          NaN   \n",
              " AZITHROMYCIN              NaN                NaN           NaN          NaN   \n",
              " FUROSEMIDE                NaN                NaN           NaN          NaN   \n",
              " CARVEDILOL                NaN                NaN           NaN          NaN   \n",
              " \n",
              "               anginaDiagnosed  strokeDiagnosed  emphysemaDiagnosed  \\\n",
              " rxName                                                               \n",
              " LISINOPRIL              147.0            194.0               134.0   \n",
              " SIMVASTATIN             163.0            263.0               120.0   \n",
              " METFORMIN                 NaN              NaN                 NaN   \n",
              " PLAVIX                  167.0              NaN                 NaN   \n",
              " HYDROCO/APAP              NaN            165.0               155.0   \n",
              " SINGULAIR                 NaN              NaN                 NaN   \n",
              " AZITHROMYCIN              NaN              NaN                 NaN   \n",
              " FUROSEMIDE                NaN              NaN                 NaN   \n",
              " CARVEDILOL                NaN              NaN                 NaN   \n",
              " \n",
              "               asthmaDiagnosed  otherHDDiagnosed  heartFailureDiagnosed  \\\n",
              " rxName                                                                   \n",
              " LISINOPRIL                NaN             470.0                   86.0   \n",
              " SIMVASTATIN               NaN             472.0                    NaN   \n",
              " METFORMIN                 NaN               NaN                    NaN   \n",
              " PLAVIX                    NaN               NaN                    NaN   \n",
              " HYDROCO/APAP            406.0               NaN                    NaN   \n",
              " SINGULAIR               410.0               NaN                    NaN   \n",
              " AZITHROMYCIN            408.0               NaN                    NaN   \n",
              " FUROSEMIDE                NaN             345.0                  125.0   \n",
              " CARVEDILOL                NaN               NaN                  107.0   \n",
              " \n",
              "               highBPDiagnosed  diabetesDiagnosed  chdDiagnosed  miDiagnosed  \\\n",
              " rxName                                                                        \n",
              " LISINOPRIL           0.042198           0.039498      0.032156     0.038155   \n",
              " SIMVASTATIN          0.033742           0.034785      0.039111     0.039750   \n",
              " METFORMIN            0.025862           0.071833           NaN          NaN   \n",
              " PLAVIX                    NaN                NaN      0.028362     0.029513   \n",
              " HYDROCO/APAP              NaN                NaN           NaN          NaN   \n",
              " SINGULAIR                 NaN                NaN           NaN          NaN   \n",
              " AZITHROMYCIN              NaN                NaN           NaN          NaN   \n",
              " FUROSEMIDE                NaN                NaN           NaN          NaN   \n",
              " CARVEDILOL                NaN                NaN           NaN          NaN   \n",
              " \n",
              "               anginaDiagnosed  strokeDiagnosed  emphysemaDiagnosed  \\\n",
              " rxName                                                               \n",
              " LISINOPRIL           0.024890         0.026188            0.025259   \n",
              " SIMVASTATIN          0.027599         0.035502            0.022620   \n",
              " METFORMIN                 NaN              NaN                 NaN   \n",
              " PLAVIX               0.028276              NaN                 NaN   \n",
              " HYDROCO/APAP              NaN         0.022273            0.029218   \n",
              " SINGULAIR                 NaN              NaN                 NaN   \n",
              " AZITHROMYCIN              NaN              NaN                 NaN   \n",
              " FUROSEMIDE                NaN              NaN                 NaN   \n",
              " CARVEDILOL                NaN              NaN                 NaN   \n",
              " \n",
              "               asthmaDiagnosed  otherHDDiagnosed  heartFailureDiagnosed  \n",
              " rxName                                                                  \n",
              " LISINOPRIL                NaN          0.028969               0.033437  \n",
              " SIMVASTATIN               NaN          0.029093                    NaN  \n",
              " METFORMIN                 NaN               NaN                    NaN  \n",
              " PLAVIX                    NaN               NaN                    NaN  \n",
              " HYDROCO/APAP         0.023535               NaN                    NaN  \n",
              " SINGULAIR            0.023767               NaN                    NaN  \n",
              " AZITHROMYCIN         0.023651               NaN                    NaN  \n",
              " FUROSEMIDE                NaN          0.021265               0.048600  \n",
              " CARVEDILOL                NaN               NaN               0.041602  )"
            ]
          },
          "metadata": {},
          "execution_count": 31
        }
      ]
    },
    {
      "cell_type": "markdown",
      "source": [
        "As we can see there is a extremely right-tale distribution of medicines given during diabetes"
      ],
      "metadata": {
        "id": "lMHSVqSiz5G_"
      }
    },
    {
      "cell_type": "code",
      "source": [
        "df_join[df_join['diabetesDiagnosed']=='Yes'].groupby('rxName').count()['id'].sort_values(ascending=False).reset_index().plot(x='rxName',y='id')#.set_xscale('log')"
      ],
      "metadata": {
        "colab": {
          "base_uri": "https://localhost:8080/",
          "height": 0
        },
        "id": "2z2rS33PcZ9z",
        "outputId": "be41b668-2d40-432e-8515-f26d052b6b55"
      },
      "execution_count": 32,
      "outputs": [
        {
          "output_type": "execute_result",
          "data": {
            "text/plain": [
              "<matplotlib.axes._subplots.AxesSubplot at 0x7fcaa6eb0650>"
            ]
          },
          "metadata": {},
          "execution_count": 32
        },
        {
          "output_type": "display_data",
          "data": {
            "text/plain": [
              "<Figure size 842.4x595.44 with 1 Axes>"
            ],
            "image/png": "[encoded data removed]"
          },
          "metadata": {}
        }
      ]
    },
    {
      "cell_type": "markdown",
      "source": [
        "Lets select diabetes as it looks to have a good size of diagnozed patients"
      ],
      "metadata": {
        "id": "Hetf4QYz0gaU"
      }
    },
    {
      "cell_type": "code",
      "source": [
        "for i in dis:\n",
        "  #print (df_base.groupby(i).count()['id'])\n",
        "  g=sns.countplot(df_base[i])\n",
        "  g.set_yscale(\"log\")\n",
        "  plt.show()\n"
      ],
      "metadata": {
        "colab": {
          "base_uri": "https://localhost:8080/",
          "height": 0
        },
        "id": "foHis-PQdc1H",
        "outputId": "e11bba6d-6a05-4ca2-e37e-1dece53ef0ec"
      },
      "execution_count": 33,
      "outputs": [
        {
          "output_type": "display_data",
          "data": {
            "text/plain": [
              "<Figure size 842.4x595.44 with 1 Axes>"
            ],
            "image/png": "[encoded data removed]"
          },
          "metadata": {}
        },
        {
          "output_type": "display_data",
          "data": {
            "text/plain": [
              "<Figure size 842.4x595.44 with 1 Axes>"
            ],
            "image/png": "[encoded data removed]"
          },
          "metadata": {}
        },
        {
          "output_type": "display_data",
          "data": {
            "text/plain": [
              "<Figure size 842.4x595.44 with 1 Axes>"
            ],
            "image/png": "[encoded data removed]"
          },
          "metadata": {}
        },
        {
          "output_type": "display_data",
          "data": {
            "text/plain": [
              "<Figure size 842.4x595.44 with 1 Axes>"
            ],
            "image/png": "[encoded data removed]"
          },
          "metadata": {}
        },
        {
          "output_type": "display_data",
          "data": {
            "text/plain": [
              "<Figure size 842.4x595.44 with 1 Axes>"
            ],
            "image/png": "[encoded data removed]"
          },
          "metadata": {}
        },
        {
          "output_type": "display_data",
          "data": {
            "text/plain": [
              "<Figure size 842.4x595.44 with 1 Axes>"
            ],
            "image/png": "[encoded data removed]"
          },
          "metadata": {}
        },
        {
          "output_type": "display_data",
          "data": {
            "text/plain": [
              "<Figure size 842.4x595.44 with 1 Axes>"
            ],
            "image/png": "[encoded data removed]"
          },
          "metadata": {}
        },
        {
          "output_type": "display_data",
          "data": {
            "text/plain": [
              "<Figure size 842.4x595.44 with 1 Axes>"
            ],
            "image/png": "[encoded data removed]"
          },
          "metadata": {}
        },
        {
          "output_type": "display_data",
          "data": {
            "text/plain": [
              "<Figure size 842.4x595.44 with 1 Axes>"
            ],
            "image/png": "[encoded data removed]"
          },
          "metadata": {}
        },
        {
          "output_type": "display_data",
          "data": {
            "text/plain": [
              "<Figure size 842.4x595.44 with 1 Axes>"
            ],
            "image/png": "[encoded data removed]"
          },
          "metadata": {}
        }
      ]
    },
    {
      "cell_type": "markdown",
      "source": [
        "#What medications are most indicative of each disease?\n",
        "Let's select top 10 medicines and group them in respect for each disease. For example, 87% of all total Metformin prescriptions and 37% of total Lisinopril prescriptions up to latest date have users with diabetes. In other words some medicinces were prescribed more than 1 time and they were double counted in the below table, i.e. we didn't normalize the table for each medicine to be considered only once. "
      ],
      "metadata": {
        "id": "HupWWYG-G1iO"
      }
    },
    {
      "cell_type": "code",
      "source": [
        "'''\n",
        "t = df_join.set_index('rxName')[dis].stack()\n",
        "t= t[t=='Yes'].reset_index()\n",
        "lst=[]\n",
        "for rx_name in most_common_rx_names:\n",
        "  lst.append(t[t['rxName']==rx_name]['level_1'].value_counts(normalize=True).rename(rx_name))\n",
        "dis_prev= pd.concat(lst, axis=1)\n",
        "dis_prev\n",
        "'''\n",
        "most_common_rx_names = df_join['rxName'].value_counts().head(10).index\n",
        "(df_join.set_index('rxName')[dis]=='Yes').groupby(level=0).mean().loc[most_common_rx_names]"
      ],
      "metadata": {
        "colab": {
          "base_uri": "https://localhost:8080/",
          "height": 427
        },
        "id": "wW-1cwob3xfS",
        "outputId": "165e765c-112a-400a-a7c1-1d7c2a989a59"
      },
      "execution_count": 34,
      "outputs": [
        {
          "output_type": "execute_result",
          "data": {
            "text/plain": [
              "              highBPDiagnosed  diabetesDiagnosed  chdDiagnosed  miDiagnosed  \\\n",
              "SIMVASTATIN          0.717614           0.332871      0.191123     0.131761   \n",
              "LISINOPRIL           0.885420           0.352907      0.160699     0.119164   \n",
              "AZITHROMYCIN         0.261433           0.080887      0.046075     0.028669   \n",
              "AMOXICILLIN          0.147595           0.046647      0.028426     0.016399   \n",
              "HYDROCO/APAP         0.483980           0.163588      0.080286     0.057294   \n",
              "METFORMIN            0.721509           0.858113      0.129057     0.092075   \n",
              "AMLODIPINE           0.943416           0.268641      0.176626     0.110524   \n",
              "IBUPROFEN            0.288978           0.105083      0.028555     0.026271   \n",
              "OMEPRAZOLE           0.668409           0.254936      0.166086     0.115563   \n",
              "LEVOTHYROXIN         0.524118           0.188235      0.104706     0.070000   \n",
              "\n",
              "              anginaDiagnosed  strokeDiagnosed  emphysemaDiagnosed  \\\n",
              "SIMVASTATIN          0.075451         0.121498            0.051595   \n",
              "LISINOPRIL           0.064738         0.092524            0.054139   \n",
              "AZITHROMYCIN         0.027986         0.027645            0.034130   \n",
              "AMOXICILLIN          0.014942         0.014213            0.011662   \n",
              "HYDROCO/APAP         0.060686         0.081794            0.074632   \n",
              "METFORMIN            0.069057         0.083396            0.051698   \n",
              "AMLODIPINE           0.076150         0.135907            0.054469   \n",
              "IBUPROFEN            0.024557         0.034266            0.023415   \n",
              "OMEPRAZOLE           0.116144         0.112079            0.090592   \n",
              "LEVOTHYROXIN         0.045882         0.074706            0.033529   \n",
              "\n",
              "              asthmaDiagnosed  otherHDDiagnosed  heartFailureDiagnosed  \n",
              "SIMVASTATIN          0.112621          0.212483               0.024965  \n",
              "LISINOPRIL           0.132340          0.216270               0.042681  \n",
              "AZITHROMYCIN         0.172355          0.091809               0.009556  \n",
              "AMOXICILLIN          0.134111          0.063047               0.003644  \n",
              "HYDROCO/APAP         0.182435          0.173766               0.016962  \n",
              "METFORMIN            0.147925          0.173208               0.019245  \n",
              "AMLODIPINE           0.114754          0.215230               0.033845  \n",
              "IBUPROFEN            0.154769          0.085094               0.005711  \n",
              "OMEPRAZOLE           0.201510          0.227062               0.038328  \n",
              "LEVOTHYROXIN         0.145294          0.187059               0.027059  "
            ],
            "text/html": [
              "\n",
              "  <div id=\"df-8d946eef-8d23-4302-a2cc-36c75318db37\">\n",
              "    <div class=\"colab-df-container\">\n",
              "      <div>\n",
              "<style scoped>\n",
              "    .dataframe tbody tr th:only-of-type {\n",
              "        vertical-align: middle;\n",
              "    }\n",
              "\n",
              "    .dataframe tbody tr th {\n",
              "        vertical-align: top;\n",
              "    }\n",
              "\n",
              "    .dataframe thead th {\n",
              "        text-align: right;\n",
              "    }\n",
              "</style>\n",
              "<table border=\"1\" class=\"dataframe\">\n",
              "  <thead>\n",
              "    <tr style=\"text-align: right;\">\n",
              "      <th></th>\n",
              "      <th>highBPDiagnosed</th>\n",
              "      <th>diabetesDiagnosed</th>\n",
              "      <th>chdDiagnosed</th>\n",
              "      <th>miDiagnosed</th>\n",
              "      <th>anginaDiagnosed</th>\n",
              "      <th>strokeDiagnosed</th>\n",
              "      <th>emphysemaDiagnosed</th>\n",
              "      <th>asthmaDiagnosed</th>\n",
              "      <th>otherHDDiagnosed</th>\n",
              "      <th>heartFailureDiagnosed</th>\n",
              "    </tr>\n",
              "  </thead>\n",
              "  <tbody>\n",
              "    <tr>\n",
              "      <th>SIMVASTATIN</th>\n",
              "      <td>0.717614</td>\n",
              "      <td>0.332871</td>\n",
              "      <td>0.191123</td>\n",
              "      <td>0.131761</td>\n",
              "      <td>0.075451</td>\n",
              "      <td>0.121498</td>\n",
              "      <td>0.051595</td>\n",
              "      <td>0.112621</td>\n",
              "      <td>0.212483</td>\n",
              "      <td>0.024965</td>\n",
              "    </tr>\n",
              "    <tr>\n",
              "      <th>LISINOPRIL</th>\n",
              "      <td>0.885420</td>\n",
              "      <td>0.352907</td>\n",
              "      <td>0.160699</td>\n",
              "      <td>0.119164</td>\n",
              "      <td>0.064738</td>\n",
              "      <td>0.092524</td>\n",
              "      <td>0.054139</td>\n",
              "      <td>0.132340</td>\n",
              "      <td>0.216270</td>\n",
              "      <td>0.042681</td>\n",
              "    </tr>\n",
              "    <tr>\n",
              "      <th>AZITHROMYCIN</th>\n",
              "      <td>0.261433</td>\n",
              "      <td>0.080887</td>\n",
              "      <td>0.046075</td>\n",
              "      <td>0.028669</td>\n",
              "      <td>0.027986</td>\n",
              "      <td>0.027645</td>\n",
              "      <td>0.034130</td>\n",
              "      <td>0.172355</td>\n",
              "      <td>0.091809</td>\n",
              "      <td>0.009556</td>\n",
              "    </tr>\n",
              "    <tr>\n",
              "      <th>AMOXICILLIN</th>\n",
              "      <td>0.147595</td>\n",
              "      <td>0.046647</td>\n",
              "      <td>0.028426</td>\n",
              "      <td>0.016399</td>\n",
              "      <td>0.014942</td>\n",
              "      <td>0.014213</td>\n",
              "      <td>0.011662</td>\n",
              "      <td>0.134111</td>\n",
              "      <td>0.063047</td>\n",
              "      <td>0.003644</td>\n",
              "    </tr>\n",
              "    <tr>\n",
              "      <th>HYDROCO/APAP</th>\n",
              "      <td>0.483980</td>\n",
              "      <td>0.163588</td>\n",
              "      <td>0.080286</td>\n",
              "      <td>0.057294</td>\n",
              "      <td>0.060686</td>\n",
              "      <td>0.081794</td>\n",
              "      <td>0.074632</td>\n",
              "      <td>0.182435</td>\n",
              "      <td>0.173766</td>\n",
              "      <td>0.016962</td>\n",
              "    </tr>\n",
              "    <tr>\n",
              "      <th>METFORMIN</th>\n",
              "      <td>0.721509</td>\n",
              "      <td>0.858113</td>\n",
              "      <td>0.129057</td>\n",
              "      <td>0.092075</td>\n",
              "      <td>0.069057</td>\n",
              "      <td>0.083396</td>\n",
              "      <td>0.051698</td>\n",
              "      <td>0.147925</td>\n",
              "      <td>0.173208</td>\n",
              "      <td>0.019245</td>\n",
              "    </tr>\n",
              "    <tr>\n",
              "      <th>AMLODIPINE</th>\n",
              "      <td>0.943416</td>\n",
              "      <td>0.268641</td>\n",
              "      <td>0.176626</td>\n",
              "      <td>0.110524</td>\n",
              "      <td>0.076150</td>\n",
              "      <td>0.135907</td>\n",
              "      <td>0.054469</td>\n",
              "      <td>0.114754</td>\n",
              "      <td>0.215230</td>\n",
              "      <td>0.033845</td>\n",
              "    </tr>\n",
              "    <tr>\n",
              "      <th>IBUPROFEN</th>\n",
              "      <td>0.288978</td>\n",
              "      <td>0.105083</td>\n",
              "      <td>0.028555</td>\n",
              "      <td>0.026271</td>\n",
              "      <td>0.024557</td>\n",
              "      <td>0.034266</td>\n",
              "      <td>0.023415</td>\n",
              "      <td>0.154769</td>\n",
              "      <td>0.085094</td>\n",
              "      <td>0.005711</td>\n",
              "    </tr>\n",
              "    <tr>\n",
              "      <th>OMEPRAZOLE</th>\n",
              "      <td>0.668409</td>\n",
              "      <td>0.254936</td>\n",
              "      <td>0.166086</td>\n",
              "      <td>0.115563</td>\n",
              "      <td>0.116144</td>\n",
              "      <td>0.112079</td>\n",
              "      <td>0.090592</td>\n",
              "      <td>0.201510</td>\n",
              "      <td>0.227062</td>\n",
              "      <td>0.038328</td>\n",
              "    </tr>\n",
              "    <tr>\n",
              "      <th>LEVOTHYROXIN</th>\n",
              "      <td>0.524118</td>\n",
              "      <td>0.188235</td>\n",
              "      <td>0.104706</td>\n",
              "      <td>0.070000</td>\n",
              "      <td>0.045882</td>\n",
              "      <td>0.074706</td>\n",
              "      <td>0.033529</td>\n",
              "      <td>0.145294</td>\n",
              "      <td>0.187059</td>\n",
              "      <td>0.027059</td>\n",
              "    </tr>\n",
              "  </tbody>\n",
              "</table>\n",
              "</div>\n",
              "      <button class=\"colab-df-convert\" onclick=\"convertToInteractive('df-8d946eef-8d23-4302-a2cc-36c75318db37')\"\n",
              "              title=\"Convert this dataframe to an interactive table.\"\n",
              "              style=\"display:none;\">\n",
              "        \n",
              "  <svg xmlns=\"http://www.w3.org/2000/svg\" height=\"24px\"viewBox=\"0 0 24 24\"\n",
              "       width=\"24px\">\n",
              "    <path d=\"M0 0h24v24H0V0z\" fill=\"none\"/>\n",
              "    <path d=\"M18.56 5.44l.94 2.06.94-2.06 2.06-.94-2.06-.94-.94-2.06-.94 2.06-2.06.94zm-11 1L8.5 8.5l.94-2.06 2.06-.94-2.06-.94L8.5 2.5l-.94 2.06-2.06.94zm10 10l.94 2.06.94-2.06 2.06-.94-2.06-.94-.94-2.06-.94 2.06-2.06.94z\"/><path d=\"M17.41 7.96l-1.37-1.37c-.4-.4-.92-.59-1.43-.59-.52 0-1.04.2-1.43.59L10.3 9.45l-7.72 7.72c-.78.78-.78 2.05 0 2.83L4 21.41c.39.39.9.59 1.41.59.51 0 1.02-.2 1.41-.59l7.78-7.78 2.81-2.81c.8-.78.8-2.07 0-2.86zM5.41 20L4 18.59l7.72-7.72 1.47 1.35L5.41 20z\"/>\n",
              "  </svg>\n",
              "      </button>\n",
              "      \n",
              "  <style>\n",
              "    .colab-df-container {\n",
              "      display:flex;\n",
              "      flex-wrap:wrap;\n",
              "      gap: 12px;\n",
              "    }\n",
              "\n",
              "    .colab-df-convert {\n",
              "      background-color: #E8F0FE;\n",
              "      border: none;\n",
              "      border-radius: 50%;\n",
              "      cursor: pointer;\n",
              "      display: none;\n",
              "      fill: #1967D2;\n",
              "      height: 32px;\n",
              "      padding: 0 0 0 0;\n",
              "      width: 32px;\n",
              "    }\n",
              "\n",
              "    .colab-df-convert:hover {\n",
              "      background-color: #E2EBFA;\n",
              "      box-shadow: 0px 1px 2px rgba(60, 64, 67, 0.3), 0px 1px 3px 1px rgba(60, 64, 67, 0.15);\n",
              "      fill: #174EA6;\n",
              "    }\n",
              "\n",
              "    [theme=dark] .colab-df-convert {\n",
              "      background-color: #3B4455;\n",
              "      fill: #D2E3FC;\n",
              "    }\n",
              "\n",
              "    [theme=dark] .colab-df-convert:hover {\n",
              "      background-color: #434B5C;\n",
              "      box-shadow: 0px 1px 3px 1px rgba(0, 0, 0, 0.15);\n",
              "      filter: drop-shadow(0px 1px 2px rgba(0, 0, 0, 0.3));\n",
              "      fill: #FFFFFF;\n",
              "    }\n",
              "  </style>\n",
              "\n",
              "      <script>\n",
              "        const buttonEl =\n",
              "          document.querySelector('#df-8d946eef-8d23-4302-a2cc-36c75318db37 button.colab-df-convert');\n",
              "        buttonEl.style.display =\n",
              "          google.colab.kernel.accessAllowed ? 'block' : 'none';\n",
              "\n",
              "        async function convertToInteractive(key) {\n",
              "          const element = document.querySelector('#df-8d946eef-8d23-4302-a2cc-36c75318db37');\n",
              "          const dataTable =\n",
              "            await google.colab.kernel.invokeFunction('convertToInteractive',\n",
              "                                                     [key], {});\n",
              "          if (!dataTable) return;\n",
              "\n",
              "          const docLinkHtml = 'Like what you see? Visit the ' +\n",
              "            '<a target=\"_blank\" href=https://colab.research.google.com/notebooks/data_table.ipynb>data table notebook</a>'\n",
              "            + ' to learn more about interactive tables.';\n",
              "          element.innerHTML = '';\n",
              "          dataTable['output_type'] = 'display_data';\n",
              "          await google.colab.output.renderOutput(dataTable, element);\n",
              "          const docLink = document.createElement('div');\n",
              "          docLink.innerHTML = docLinkHtml;\n",
              "          element.appendChild(docLink);\n",
              "        }\n",
              "      </script>\n",
              "    </div>\n",
              "  </div>\n",
              "  "
            ]
          },
          "metadata": {},
          "execution_count": 34
        }
      ]
    },
    {
      "cell_type": "markdown",
      "source": [
        "#Choose ONE of the diseases and build a model to infer whether that disease is present from the medications.\n",
        "We will create a model with dependend variable being Yes or Not Yes diagnosis (by grouping all other values into Not Yes) for Diabites and independent variables being medicines. It makes sense to include all Not Yeas values (including Inapplicable, DK etc.), as the presence of some medicines may indicated that it's not a diabetes but another disease).\n",
        "We will make sure that each medicine is present only once for each patient in the below table for the model to work in accordance with our assumptions. "
      ],
      "metadata": {
        "id": "jArbx3zTvLsE"
      }
    },
    {
      "cell_type": "code",
      "source": [
        "#Lets select 10% of data as otherwise, the System RAM is crashing.\n",
        "disease ='diabetesDiagnosed'\n",
        "df_model = df_join[['id','rxName',disease]].sample(frac=0.1).copy()\n",
        "print (df_model.shape)\n",
        "df_model[disease] = df_model[disease]=='Yes'\n",
        "df_model.drop_duplicates(inplace=True)\n",
        "print (df_model.shape)\n",
        "# Lets create dummy variables and make sure that each id and desease has one value for each disease\n",
        "df_model = pd.get_dummies(df_model, prefix='', prefix_sep='', columns=['rxName'])\n",
        "df_model = df_model.groupby(['id',disease]).sum().reset_index(level=1)\n",
        "\n"
      ],
      "metadata": {
        "colab": {
          "base_uri": "https://localhost:8080/"
        },
        "id": "RMA9APoGvESJ",
        "outputId": "d4849acd-6aaa-461e-b1b6-266dbcd2128d"
      },
      "execution_count": null,
      "outputs": [
        {
          "output_type": "stream",
          "name": "stdout",
          "text": [
            "(34276, 3)\n",
            "(32564, 3)\n"
          ]
        }
      ]
    },
    {
      "cell_type": "markdown",
      "source": [
        "Below we applied logistic regression, one of the simplest but interpretable models and there is a difference in roc auc scores for test and train datasets, as there lots of features and the model behaves a bit differently for each dataset. It should be noted that it's not clear what is the best score here, as the task in hand - determine whether the person has a diabetes based on the medications given is quite challenging. As we saw from the previous analysis, very often one medicine is given to all conditions. Also, diabetes is present in combination with many other diseases like highblood pressure and etc."
      ],
      "metadata": {
        "id": "_Qk_gcewHtd_"
      }
    },
    {
      "cell_type": "code",
      "source": [
        "from sklearn.metrics import  plot_precision_recall_curve\n",
        "X,y=df_model.drop(columns=disease), df_model[disease]\n",
        "X_train, X_test, y_train, y_test= train_test_split(X,y, test_size=0.3, random_state=42)\n",
        "ln= LogisticRegression()\n",
        "ln.fit(X_train, y_train)\n",
        "y_pred_test = ln.predict_proba(X_test)[:,1]\n",
        "y_pred_train = ln.predict_proba(X_train)[:,1]\n",
        "roc_train, roc_test =  roc_auc_score(y_train, y_pred_train), roc_auc_score(y_test, y_pred_test) \n",
        "print ('roc_train: ', roc_train, 'roc_test :', roc_test)\n",
        "\n"
      ],
      "metadata": {
        "colab": {
          "base_uri": "https://localhost:8080/"
        },
        "id": "82dh81JI6rmV",
        "outputId": "ee94a5da-e862-4e44-d8f0-1796d8e5c98d"
      },
      "execution_count": null,
      "outputs": [
        {
          "output_type": "stream",
          "name": "stdout",
          "text": [
            "roc_train:  0.9164522506628647 roc_test : 0.8272699011181006\n"
          ]
        }
      ]
    },
    {
      "cell_type": "markdown",
      "source": [
        "Here is the plot of precision vs recall and even though it looks like the model is better than naive estimation of the disease but by not much margin. For example, at recall level of 0.8 (i.e. we predict correctly 80% of predictions), we only identify around 50% of all people with diabetes. It means that if we are interested in identifying as many people with diabetes as possible, then we need to apply some other model."
      ],
      "metadata": {
        "id": "AUua6yyIHvPv"
      }
    },
    {
      "cell_type": "code",
      "source": [
        "plot_precision_recall_curve(ln, X_test, y_test)"
      ],
      "metadata": {
        "colab": {
          "base_uri": "https://localhost:8080/",
          "height": 534
        },
        "id": "q8pdEXK7_96r",
        "outputId": "f77cbaf2-b8b6-494e-edce-9a2a342e3718"
      },
      "execution_count": null,
      "outputs": [
        {
          "output_type": "execute_result",
          "data": {
            "text/plain": [
              "<sklearn.metrics._plot.precision_recall_curve.PrecisionRecallDisplay at 0x7f9d930d7890>"
            ]
          },
          "metadata": {},
          "execution_count": 46
        },
        {
          "output_type": "display_data",
          "data": {
            "text/plain": [
              "<Figure size 842.4x595.44 with 1 Axes>"
            ],
            "image/png": "[encoded data removed]"
          },
          "metadata": {}
        }
      ]
    },
    {
      "cell_type": "code",
      "source": [
        "%pip install catboost"
      ],
      "metadata": {
        "colab": {
          "base_uri": "https://localhost:8080/"
        },
        "id": "3c5KYrhGK-Uu",
        "outputId": "96f0c3f9-1205-4525-9541-de02c7326d82"
      },
      "execution_count": null,
      "outputs": [
        {
          "output_type": "stream",
          "name": "stdout",
          "text": [
            "Looking in indexes: https://pypi.org/simple, https://us-python.pkg.dev/colab-wheels/public/simple/\n",
            "Collecting catboost\n",
            "  Downloading catboost-1.1-cp37-none-manylinux1_x86_64.whl (76.8 MB)\n",
            "\u001b[K     |████████████████████████████████| 76.8 MB 1.2 MB/s \n",
            "\u001b[?25hRequirement already satisfied: numpy>=1.16.0 in /usr/local/lib/python3.7/dist-packages (from catboost) (1.21.6)\n",
            "Requirement already satisfied: six in /usr/local/lib/python3.7/dist-packages (from catboost) (1.15.0)\n",
            "Requirement already satisfied: graphviz in /usr/local/lib/python3.7/dist-packages (from catboost) (0.10.1)\n",
            "Requirement already satisfied: pandas>=0.24.0 in /usr/local/lib/python3.7/dist-packages (from catboost) (1.3.5)\n",
            "Requirement already satisfied: plotly in /usr/local/lib/python3.7/dist-packages (from catboost) (5.5.0)\n",
            "Requirement already satisfied: matplotlib in /usr/local/lib/python3.7/dist-packages (from catboost) (3.2.2)\n",
            "Requirement already satisfied: scipy in /usr/local/lib/python3.7/dist-packages (from catboost) (1.7.3)\n",
            "Requirement already satisfied: pytz>=2017.3 in /usr/local/lib/python3.7/dist-packages (from pandas>=0.24.0->catboost) (2022.4)\n",
            "Requirement already satisfied: python-dateutil>=2.7.3 in /usr/local/lib/python3.7/dist-packages (from pandas>=0.24.0->catboost) (2.8.2)\n",
            "Requirement already satisfied: cycler>=0.10 in /usr/local/lib/python3.7/dist-packages (from matplotlib->catboost) (0.11.0)\n",
            "Requirement already satisfied: kiwisolver>=1.0.1 in /usr/local/lib/python3.7/dist-packages (from matplotlib->catboost) (1.4.4)\n",
            "Requirement already satisfied: pyparsing!=2.0.4,!=2.1.2,!=2.1.6,>=2.0.1 in /usr/local/lib/python3.7/dist-packages (from matplotlib->catboost) (3.0.9)\n",
            "Requirement already satisfied: typing-extensions in /usr/local/lib/python3.7/dist-packages (from kiwisolver>=1.0.1->matplotlib->catboost) (4.1.1)\n",
            "Requirement already satisfied: tenacity>=6.2.0 in /usr/local/lib/python3.7/dist-packages (from plotly->catboost) (8.1.0)\n",
            "Installing collected packages: catboost\n",
            "Successfully installed catboost-1.1\n"
          ]
        }
      ]
    },
    {
      "cell_type": "markdown",
      "source": [
        "Lets try another model which is much more powerful - catboost. If we increase the parameters, the roc auc score increases, but not significantly. "
      ],
      "metadata": {
        "id": "UlV8rO8DN_GX"
      }
    },
    {
      "cell_type": "code",
      "source": [
        "from catboost import CatBoostClassifier\n",
        "model = CatBoostClassifier(n_estimators=300, learning_rate=0.1, max_depth=10)\n",
        "model.fit(X_train, y_train, silent=True)\n",
        "y_pred_test = model.predict_proba(X_test)[:,1]\n",
        "y_pred_train = ln.predict_proba(X_train)[:,1]\n",
        "roc_train, roc_test =  roc_auc_score(y_train, y_pred_train), roc_auc_score(y_test, y_pred_test) \n",
        "print ('roc_train: ', roc_train, 'roc_test :', roc_test)"
      ],
      "metadata": {
        "id": "kYfbzQN0c3ri",
        "colab": {
          "base_uri": "https://localhost:8080/"
        },
        "outputId": "91c8c3c3-b958-4a68-c82f-9b501c91dbe4"
      },
      "execution_count": null,
      "outputs": [
        {
          "output_type": "stream",
          "name": "stdout",
          "text": [
            "roc_train:  0.9164522506628647 roc_test : 0.8264577231921997\n"
          ]
        }
      ]
    }
  ]
}